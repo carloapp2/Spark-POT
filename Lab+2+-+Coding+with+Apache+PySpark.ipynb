{
 "cells": [
  {
   "cell_type": "markdown",
   "metadata": {},
   "source": [
    "# Coding w/ Apache Spark: Basic Concepts\n",
    "This notebook guides you through the basic concepts to start working with Apache Spark, including how to set up your environment, create and analyze data sets, and work with data files, querying data with Apache Spark SQL, including how to create and use DataFrames, run SQL queries, apply functions to the results of SQL queries, join data from different data sources, and visualize data in graphs.\n",
    "\n",
    "This notebook uses pySpark, the Python API for Spark. Some knowledge of Python is recommended. This notebook runs in either Spark 1.6 or 2.0.\n",
    "\n",
    "If you are new to notebooks, here's how the user interface works: [Parts of a notebook](http://datascience.ibm.com/docs/content/analyze-data/parts-of-a-notebook.html)"
   ]
  },
  {
   "cell_type": "markdown",
   "metadata": {},
   "source": [
    "## About Apache Spark\n",
    "Apache Spark is a fast and general-purpose cluster computing system. It provides high-level APIs in Java, Scala, Python and R, and an optimized engine that supports general execution graphs. It also supports a rich set of higher-level tools including Spark SQL for processing structured data, MLlib for machine learning, GraphX for graph processing, and Spark Streaming.\n",
    "\n",
    "<img src='https://github.com/carloapp2/SparkPOT/blob/master/spark.png?raw=true' width=\"50%\" height=\"50%\"></img>\n",
    "\n",
    "\n",
    "A Spark program has a driver program and worker programs. Worker programs run on cluster nodes or in local threads. Data sets are distributed\u001d",
    " across workers. \n",
    "\n",
    "<img src='https://github.com/carloapp2/SparkPOT/blob/master/Spark%20Architecture.png?raw=true' width=\"50%\" height=\"50%\"></img>"
   ]
  },
  {
   "cell_type": "markdown",
   "metadata": {},
   "source": [
    "## Table of Contents\n",
    "In the first four sections of this notebook, you'll learn about Spark with very simple examples. In the last two sections, you'll use what you learned to analyze data files that have more realistic data sets.\n",
    "\n",
    "1. [Work with the SparkContext](#sparkcontext)<br>\n",
    "    1.1 [Invoke the SparkContext](#sparkcontext1)<br>\n",
    "    1.2 [Check the Spark version](#sparkcontext2)<br>\n",
    "2. [Work with RDDs](#rdd)<br>\n",
    "    2.1 [Create a collection](#rdd1)<br>\n",
    "    2.2 [Create an RDD](#rdd2)<br>\n",
    "    2.3 [View the data](#rdd3)<br>\n",
    "    2.4 [Create another RDD](#rdd4)<br>\n",
    "3. [Manipulate data in RDDs](#trans)<br>\n",
    "    3.1 [Update numeric values](#trans1)<br>\n",
    "    3.2 [Add numbers in an array](#trans2)<br>\n",
    "    3.3 [Split and count strings](#trans3)<br>\n",
    "    3.4 [Counts words with a pair RDD](#trans4)<br>\n",
    "4. [Filter data](#filter)<br>\n",
    "5. [Analyze text data from a file](#wordfile)<br>\n",
    "    5.1 [Get the data from a URL](#wordfile1)<br>\n",
    "    5.2 [Create an RDD from the file](#wordfile2)<br>\n",
    "    5.3 [Filter for a word](#wordfile3)<br>\n",
    "    5.4 [Count instances of a string at the beginning of words](#wordfile4)<br>\n",
    "    5.5 [Count instances of a string within words](#wordfile5)<br>\n",
    "6. [Analyze numeric data from a file](#numfile)<br>\n",
    "7. [Spark SQL](#getstarted)<br>\n",
    "     7.1 [Enable SQL processing](#sqlprocessing)<br>\n",
    "     7.2 [Download the data](#download)<br>\n",
    "     7.3 [Create a DataFrame](#createdf)<br>\n",
    "     7.4 [Create a table](#createtab)<br>\n",
    "8. [Run SQL queries](#runsql)<br>\n",
    "    8.1 [Display query results with a pandas DataFrame](#pandas)<br>\n",
    "    8.2 [Run a group by query](#groupby)<br>\n",
    "    8.3 [Run a subselect query](#subselect)<br>\n",
    "    8.4 [Return nested JSON field values](#nested)<br>\n",
    "9. [Convert RDDs to DataFrames](#convertrdd)<br>\n",
    "    9.1 [Create a simple RDD](#simplerdd)<br>\n",
    "    9.2 [Apply a schema](#apply)<br>\n",
    "    9.3 [Create rows with named columns](#namedcol)<br>\n",
    "    9.4 [Join tables](#join)<br>\n",
    "10. [Create SQL functions](#sqlfuncs)<br>\n",
    "11. [Convert a pandas DataFrame to a Spark DataFrame](#sparkdf)<br>\n",
    "    11.1 [Get a new data set](#ufo)<br>\n",
    "    11.2 [Create a pandas DataFrame](#ufopandas)<br>\n",
    "    11.3 [Convert to a Spark DataFrame](#sparkufo)<br>\n",
    "    11.4 [Run an SQL statement](#runufo)<br>\n",
    "12. [Visualize data](#viz)<br>\n",
    "    12.1 [Create a chart](#vizchart)<br>\n",
    "    12.2 [Aggregate the data](#vizagg)<br>\n",
    "    12.3 [Create a better chart](#vizchart2)<br>\n",
    "13. [Summary and next steps](#summary)"
   ]
  },
  {
   "cell_type": "markdown",
   "metadata": {},
   "source": [
    "<a id=\"sparkcontext\"></a>\n",
    "## 1. Work with the SparkContext object\n",
    "\n",
    "The Apache Spark driver application uses the SparkContext object to allow a programming interface to interact with the driver application. The SparkContext object tells Spark how and where to access a cluster.\n",
    "\n",
    "The Data Science Experience notebook environment predefines the Spark context for you.\n",
    "\n",
    "In other environments, you need to pick an interpreter (for example, pyspark for Python) and create a SparkConf object to initialize a SparkContext object. For example:\n",
    "<br>\n",
    "`from pyspark import SparkContext, SparkConf`<br>\n",
    "`conf = SparkConf().setAppName(appName).setMaster(master)`<br>\n",
    "`sc = SparkContext(conf=conf)`<br>\n",
    "\n",
    "<a id=\"sparkcontext1\"></a>\n",
    "### 1.1 Invoke the SparkContext\n",
    "Run the following cell to invoke the SparkContext:"
   ]
  },
  {
   "cell_type": "code",
   "execution_count": 1,
   "metadata": {
    "collapsed": false
   },
   "outputs": [
    {
     "data": {
      "text/plain": [
       "<pyspark.context.SparkContext at 0x7ffacc10df10>"
      ]
     },
     "execution_count": 1,
     "metadata": {},
     "output_type": "execute_result"
    }
   ],
   "source": [
    "sc"
   ]
  },
  {
   "cell_type": "markdown",
   "metadata": {},
   "source": [
    "<a id=\"sparkcontext2\"></a>\n",
    "### 1.2 Check the Spark version\n",
    "Check the version of the Spark driver application:"
   ]
  },
  {
   "cell_type": "code",
   "execution_count": 2,
   "metadata": {
    "collapsed": false
   },
   "outputs": [
    {
     "data": {
      "text/plain": [
       "u'2.0.2'"
      ]
     },
     "execution_count": 2,
     "metadata": {},
     "output_type": "execute_result"
    }
   ],
   "source": [
    "sc.version"
   ]
  },
  {
   "cell_type": "markdown",
   "metadata": {},
   "source": [
    "The Data Science Experience also supports other versions of Spark."
   ]
  },
  {
   "cell_type": "markdown",
   "metadata": {},
   "source": [
    "<a id=\"rdd\"></a>\n",
    "## 2. Work with Resilient Distributed Datasets\n",
    "Apache Spark uses an abstraction for working with data called a Resilient Distributed Dataset (RDD). An RDD is a collection of elements that can be operated on in parallel. RDDs are immutable, so you can't update the data in them. To update data in an RDD, you must create a new RDD. In Apache Spark, all work is done by creating new RDDs, transforming existing RDDs, or using RDDs to compute results. When working with RDDs, the Spark driver application automatically distributes the work across the cluster.\n",
    "\n",
    "You can construct RDDs by parallelizing existing Python collections (lists), by manipulating RDDs, or by manipulating files in HDFS or any other storage system.\n",
    "\n",
    "You can run these types of methods on RDDs: \n",
    " - Actions: query the data and return values\n",
    " - Transformations: manipulate data values and return pointers to new RDDs. \n",
    "\n",
    "Find more information on Python methods in the [PySpark documentation](http://spark.apache.org/docs/latest/api/python/pyspark.html).\n",
    "\n",
    "<a id=\"rdd1\"></a>\n",
    "### 2.1 Create a collection\n",
    "Create a Python collection of the numbers 1 - 10:"
   ]
  },
  {
   "cell_type": "code",
   "execution_count": 3,
   "metadata": {
    "collapsed": true
   },
   "outputs": [],
   "source": [
    "x = [1, 2, 3, 4, 5, 6, 7, 8, 9, 10]"
   ]
  },
  {
   "cell_type": "markdown",
   "metadata": {},
   "source": [
    "<a id=\"rdd2\"></a>\n",
    "### 2.2 Create an RDD \n",
    "Put the collection into an RDD named `x_nbr_rdd` using the `parallelize` method:"
   ]
  },
  {
   "cell_type": "code",
   "execution_count": 4,
   "metadata": {
    "collapsed": true
   },
   "outputs": [],
   "source": [
    "x_nbr_rdd = sc.parallelize(x)"
   ]
  },
  {
   "cell_type": "markdown",
   "metadata": {},
   "source": [
    "Notice that there's no return value. The `parallelize` method didn't compute a result, which means it's a transformation. Spark just recorded how to create the RDD."
   ]
  },
  {
   "cell_type": "markdown",
   "metadata": {},
   "source": [
    "<a id=\"rdd3\"></a>\n",
    "### 2.3 View the data \n",
    "View the first element in the RDD:"
   ]
  },
  {
   "cell_type": "code",
   "execution_count": 5,
   "metadata": {
    "collapsed": false
   },
   "outputs": [
    {
     "data": {
      "text/plain": [
       "1"
      ]
     },
     "execution_count": 5,
     "metadata": {},
     "output_type": "execute_result"
    }
   ],
   "source": [
    "x_nbr_rdd.first()"
   ]
  },
  {
   "cell_type": "markdown",
   "metadata": {},
   "source": [
    "Each number in the collection is in a different element in the RDD. Because the `first()` method returned a value, it is an action. \n",
    "\n",
    "Now view the first five elements in the RDD:"
   ]
  },
  {
   "cell_type": "code",
   "execution_count": 6,
   "metadata": {
    "collapsed": false
   },
   "outputs": [
    {
     "data": {
      "text/plain": [
       "[1, 2, 3, 4, 5]"
      ]
     },
     "execution_count": 6,
     "metadata": {},
     "output_type": "execute_result"
    }
   ],
   "source": [
    "x_nbr_rdd.take(5)"
   ]
  },
  {
   "cell_type": "markdown",
   "metadata": {},
   "source": [
    "<a id=\"rdd4\"></a>\n",
    "### 2.4 Create another RDD \n",
    "Create a Python collection that contains strings:"
   ]
  },
  {
   "cell_type": "code",
   "execution_count": 7,
   "metadata": {
    "collapsed": true
   },
   "outputs": [],
   "source": [
    "y = [\"Hello Human\", \"My Name is Spark\"]"
   ]
  },
  {
   "cell_type": "markdown",
   "metadata": {},
   "source": [
    "Put the collection into an RDD:"
   ]
  },
  {
   "cell_type": "code",
   "execution_count": 8,
   "metadata": {
    "collapsed": true
   },
   "outputs": [],
   "source": [
    "y_str_rdd = sc.parallelize(y)"
   ]
  },
  {
   "cell_type": "markdown",
   "metadata": {},
   "source": [
    "View the first element in the RDD:"
   ]
  },
  {
   "cell_type": "code",
   "execution_count": 9,
   "metadata": {
    "collapsed": false
   },
   "outputs": [
    {
     "data": {
      "text/plain": [
       "['Hello Human']"
      ]
     },
     "execution_count": 9,
     "metadata": {},
     "output_type": "execute_result"
    }
   ],
   "source": [
    "y_str_rdd.take(1)"
   ]
  },
  {
   "cell_type": "markdown",
   "metadata": {},
   "source": [
    "You created the string \"Hello Human\" and you returned it as the first element of the RDD. To analyze a set of words, you can map each word into an RDD element."
   ]
  },
  {
   "cell_type": "markdown",
   "metadata": {},
   "source": [
    "<a id=\"trans\"></a>\n",
    "## 3. Manipulate data in RDDs\n",
    "\n",
    "Remember that to manipulate data, you use transformation functions.\n",
    "\n",
    "Here are some common Python transformation functions that you'll be using in this notebook:\n",
    "\n",
    " - `map(func)`: returns a new RDD with the results of running the specified function on each element  \n",
    " - `filter(func)`: returns a new RDD with the elements for which the specified function returns true   \n",
    " - `distinct([numTasks]))`: returns a new RDD that contains the distinct elements of the source RDD\n",
    " - `flatMap(func)`: returns a new RDD by first running the specified function on all elements, returning 0 or more results for each original element, and then flattening the results into individual elements\n",
    "\n",
    "You can also create functions that run a single expression and don't have a name with the Python `lambda` keyword. For example, this function returns the sum of its arguments: `lambda a , b : a + b`.\n",
    "\n",
    "<a id=\"trans1\"></a>\n",
    "### 3.1 Update numeric values\n",
    "Run the `map()` function with the `lambda` keyword to replace each element, X, in your first RDD (the one that has numeric values) with X+1. Because RDDs are immutable, you need to specify a new RDD name."
   ]
  },
  {
   "cell_type": "code",
   "execution_count": 10,
   "metadata": {
    "collapsed": false
   },
   "outputs": [],
   "source": [
    "x_nbr_rdd_2 = x_nbr_rdd.map(lambda x: x+1)"
   ]
  },
  {
   "cell_type": "markdown",
   "metadata": {},
   "source": [
    "Now look at the elements of the new RDD: "
   ]
  },
  {
   "cell_type": "code",
   "execution_count": 11,
   "metadata": {
    "collapsed": false
   },
   "outputs": [
    {
     "data": {
      "text/plain": [
       "[2, 3, 4, 5, 6, 7, 8, 9, 10, 11]"
      ]
     },
     "execution_count": 11,
     "metadata": {},
     "output_type": "execute_result"
    }
   ],
   "source": [
    "x_nbr_rdd_2.collect()"
   ]
  },
  {
   "cell_type": "markdown",
   "metadata": {},
   "source": [
    "Be careful with the `collect` method! It returns __all__ elements of the RDD to the driver. Returning a large data set might be not be very useful. No-one wants to scroll through a million rows!"
   ]
  },
  {
   "cell_type": "markdown",
   "metadata": {},
   "source": [
    "<a id=\"trans2\"></a>\n",
    "### 3.2 Add numbers in an array\n",
    "An array of values is a common data format where multiple values are contained in one element. You can manipulate the individual values if you split them up into separate elements.\n",
    "\n",
    "Create an array of numbers by including quotation marks around the whole set of numbers. If you omit the quotation marks, you get a collection of numbers instead of an array."
   ]
  },
  {
   "cell_type": "code",
   "execution_count": 12,
   "metadata": {
    "collapsed": true
   },
   "outputs": [],
   "source": [
    "X = [\"1,2,3,4,5,6,7,8,9,10\"]"
   ]
  },
  {
   "cell_type": "markdown",
   "metadata": {},
   "source": [
    "Create an RDD for the array:"
   ]
  },
  {
   "cell_type": "code",
   "execution_count": 13,
   "metadata": {
    "collapsed": true
   },
   "outputs": [],
   "source": [
    "y_rd = sc.parallelize(X)"
   ]
  },
  {
   "cell_type": "markdown",
   "metadata": {},
   "source": [
    "Split the values at commas and add values in the positions 2 and 9 in the array. Keep in mind that an array starts with position 0. Use a backslash character, \\, to break the line of code for clarity."
   ]
  },
  {
   "cell_type": "code",
   "execution_count": 14,
   "metadata": {
    "collapsed": true
   },
   "outputs": [],
   "source": [
    "Sum_rd = y_rd.map(lambda y: y.split(\",\")).\\\n",
    "map(lambda y: (int(y[2])+int(y[9])))"
   ]
  },
  {
   "cell_type": "markdown",
   "metadata": {},
   "source": [
    "Now return the value of the sum:"
   ]
  },
  {
   "cell_type": "code",
   "execution_count": 15,
   "metadata": {
    "collapsed": false
   },
   "outputs": [
    {
     "data": {
      "text/plain": [
       "13"
      ]
     },
     "execution_count": 15,
     "metadata": {},
     "output_type": "execute_result"
    }
   ],
   "source": [
    "Sum_rd.first()"
   ]
  },
  {
   "cell_type": "markdown",
   "metadata": {},
   "source": [
    "<a id=\"trans3\"></a>\n",
    "### 3.3 Split and count text strings\n",
    "\n",
    "Create an RDD with a text string and show the first element:"
   ]
  },
  {
   "cell_type": "code",
   "execution_count": 16,
   "metadata": {
    "collapsed": false
   },
   "outputs": [
    {
     "data": {
      "text/plain": [
       "\"Hello Human. I'm Apache Spark and I love running analysis on data.\""
      ]
     },
     "execution_count": 16,
     "metadata": {},
     "output_type": "execute_result"
    }
   ],
   "source": [
    "Words = [\"Hello Human. I'm Apache Spark and I love running analysis on data.\"]\n",
    "words_rd = sc.parallelize(Words)\n",
    "words_rd.first()"
   ]
  },
  {
   "cell_type": "markdown",
   "metadata": {},
   "source": [
    "Split the string into separate lines at the space characters and look at the first element:"
   ]
  },
  {
   "cell_type": "code",
   "execution_count": 17,
   "metadata": {
    "collapsed": false
   },
   "outputs": [
    {
     "data": {
      "text/plain": [
       "['Hello',\n",
       " 'Human.',\n",
       " \"I'm\",\n",
       " 'Apache',\n",
       " 'Spark',\n",
       " 'and',\n",
       " 'I',\n",
       " 'love',\n",
       " 'running',\n",
       " 'analysis',\n",
       " 'on',\n",
       " 'data.']"
      ]
     },
     "execution_count": 17,
     "metadata": {},
     "output_type": "execute_result"
    }
   ],
   "source": [
    "Words_rd2 = words_rd.map(lambda line: line.split(\" \"))\n",
    "Words_rd2.first()"
   ]
  },
  {
   "cell_type": "markdown",
   "metadata": {},
   "source": [
    "Count the number of elements in this RDD with the `count()` method:"
   ]
  },
  {
   "cell_type": "code",
   "execution_count": 18,
   "metadata": {
    "collapsed": false
   },
   "outputs": [
    {
     "data": {
      "text/plain": [
       "1"
      ]
     },
     "execution_count": 18,
     "metadata": {},
     "output_type": "execute_result"
    }
   ],
   "source": [
    "Words_rd2.count()"
   ]
  },
  {
   "cell_type": "markdown",
   "metadata": {},
   "source": [
    "Of course, you already knew that there was only one element because you ran the `first()` method and it returned the whole string. Splitting the string into multiple lines did not create multiple elements."
   ]
  },
  {
   "cell_type": "markdown",
   "metadata": {},
   "source": [
    "Now split the string again, but this time with the `flatmap()` method, and look at the first three elements:"
   ]
  },
  {
   "cell_type": "code",
   "execution_count": 19,
   "metadata": {
    "collapsed": false
   },
   "outputs": [
    {
     "data": {
      "text/plain": [
       "['Hello', 'Human.', \"I'm\"]"
      ]
     },
     "execution_count": 19,
     "metadata": {},
     "output_type": "execute_result"
    }
   ],
   "source": [
    "words_rd2 = words_rd.flatMap(lambda line: line.split(\" \"))\n",
    "words_rd2.take(3)"
   ]
  },
  {
   "cell_type": "markdown",
   "metadata": {},
   "source": [
    "This time each word is separated into its own element."
   ]
  },
  {
   "cell_type": "markdown",
   "metadata": {},
   "source": [
    "<a id=\"trans4\"></a>\n",
    "### 3.4 Count words with a pair RDD\n",
    "A common way to count the number of instances of words in an RDD is to create a pair RDD. A pair RDD converts each word into a key-value pair: the word is the key and the number 1 is the value. Because the values are all 1, when you add the  values for a particular word, you get the number of instances of that word.\n",
    "\n",
    "Create an RDD:"
   ]
  },
  {
   "cell_type": "code",
   "execution_count": 20,
   "metadata": {
    "collapsed": false
   },
   "outputs": [
    {
     "data": {
      "text/plain": [
       "'First,Line'"
      ]
     },
     "execution_count": 20,
     "metadata": {},
     "output_type": "execute_result"
    }
   ],
   "source": [
    "z = [\"First,Line\", \"Second,Line\", \"and,Third,Line\"]\n",
    "z_str_rdd = sc.parallelize(z)\n",
    "z_str_rdd.first()"
   ]
  },
  {
   "cell_type": "markdown",
   "metadata": {},
   "source": [
    "Split the elements into individual words with the `flatmap()` method:"
   ]
  },
  {
   "cell_type": "code",
   "execution_count": 21,
   "metadata": {
    "collapsed": false
   },
   "outputs": [
    {
     "data": {
      "text/plain": [
       "['First', 'Line', 'Second', 'Line', 'and', 'Third', 'Line']"
      ]
     },
     "execution_count": 21,
     "metadata": {},
     "output_type": "execute_result"
    }
   ],
   "source": [
    "z_str_rdd_split_flatmap = z_str_rdd.flatMap(lambda line: line.split(\",\"))\n",
    "z_str_rdd_split_flatmap.collect()"
   ]
  },
  {
   "cell_type": "markdown",
   "metadata": {},
   "source": [
    "Convert the elements into key-value pairs:"
   ]
  },
  {
   "cell_type": "code",
   "execution_count": 22,
   "metadata": {
    "collapsed": false
   },
   "outputs": [
    {
     "data": {
      "text/plain": [
       "[('First', 1),\n",
       " ('Line', 1),\n",
       " ('Second', 1),\n",
       " ('Line', 1),\n",
       " ('and', 1),\n",
       " ('Third', 1),\n",
       " ('Line', 1)]"
      ]
     },
     "execution_count": 22,
     "metadata": {},
     "output_type": "execute_result"
    }
   ],
   "source": [
    "countWords = z_str_rdd_split_flatmap.map(lambda word:(word,1))\n",
    "countWords.collect()"
   ]
  },
  {
   "cell_type": "markdown",
   "metadata": {},
   "source": [
    "Now sum all the values by key to find the number of instances for each word: "
   ]
  },
  {
   "cell_type": "code",
   "execution_count": 23,
   "metadata": {
    "collapsed": false
   },
   "outputs": [
    {
     "data": {
      "text/plain": [
       "[('and', 1), ('Line', 3), ('Second', 1), ('Third', 1), ('First', 1)]"
      ]
     },
     "execution_count": 23,
     "metadata": {},
     "output_type": "execute_result"
    }
   ],
   "source": [
    "from operator import add\n",
    "countWords2 = countWords.reduceByKey(add)\n",
    "countWords2.collect()"
   ]
  },
  {
   "cell_type": "markdown",
   "metadata": {},
   "source": [
    "Notice that the word `Line` has a count of 3."
   ]
  },
  {
   "cell_type": "markdown",
   "metadata": {},
   "source": [
    "<a id=\"filter\"></a>\n",
    "## 4. Filter data\n",
    "\n",
    "The filter command creates a new RDD from another RDD based on a filter criteria.\n",
    "The filter syntax is: \n",
    "\n",
    "`.filter(lambda line: \"Filter Criteria Value\" in line)`\n",
    "\n",
    "Hint: Use a simple python `print` command to add a string to your Spark results and to run multiple actions in single cell.\n",
    "\n",
    "Find the number of instances of the word `Line` in the `z_str_rdd_split_flatmap` RDD:"
   ]
  },
  {
   "cell_type": "code",
   "execution_count": 24,
   "metadata": {
    "collapsed": false
   },
   "outputs": [
    {
     "name": "stdout",
     "output_type": "stream",
     "text": [
      "The count of words Second\n",
      "Is: 1\n"
     ]
    }
   ],
   "source": [
    "words_rd3 = z_str_rdd_split_flatmap.filter(lambda line: \"Second\" in line) \n",
    "\n",
    "print \"The count of words \" + str(words_rd3.first())\n",
    "print \"Is: \" + str(words_rd3.count())"
   ]
  },
  {
   "cell_type": "markdown",
   "metadata": {},
   "source": [
    "<a id=\"wordfile\"></a>\n",
    "## 5. Analyze text data from a file\n",
    "In this section, you'll download a file from a URL, create an RDD from it, and analyze the text in it.\n",
    "\n",
    "<a id=\"wordfile1\"></a>\n",
    "### 5.1 Get the file from a URL\n",
    "\n",
    "You can run shell commands by prefacing them with an exclamation point (!).\n",
    "\n",
    "Remove any files with the same name as the file that you're going to download and then load a file named `README.md` from a URL into the filesystem for Spark:"
   ]
  },
  {
   "cell_type": "code",
   "execution_count": 25,
   "metadata": {
    "collapsed": false
   },
   "outputs": [
    {
     "name": "stdout",
     "output_type": "stream",
     "text": [
      "--2017-02-22 20:35:13--  https://github.com/carloapp2/SparkPOT/blob/master/README.md\n",
      "Resolving github.com (github.com)... 192.30.253.112, 192.30.253.113\n",
      "Connecting to github.com (github.com)|192.30.253.112|:443... connected.\n",
      "HTTP request sent, awaiting response... 200 OK\n",
      "Length: unspecified [text/html]\n",
      "Saving to: ‘README.md’\n",
      "\n",
      "    [ <=>                                   ] 38,287      --.-K/s   in 0.03s   \n",
      "\n",
      "2017-02-22 20:35:13 (1.12 MB/s) - ‘README.md’ saved [38287]\n",
      "\n"
     ]
    }
   ],
   "source": [
    "!rm README.md* -f\n",
    "!wget https://github.com/carloapp2/SparkPOT/blob/master/README.md"
   ]
  },
  {
   "cell_type": "markdown",
   "metadata": {},
   "source": [
    "<a id=\"wordfile2\"></a>\n",
    "### 5.2 Create an RDD from the file\n",
    "Use the `textFile` method to create an RDD named `textfile_rdd` based on the `README.md` file. The RDD will contain one element for each line in the `README.md` file.\n",
    "Also, count the number of lines in the RDD, which is the same as the number of lines in the text file. "
   ]
  },
  {
   "cell_type": "code",
   "execution_count": 26,
   "metadata": {
    "collapsed": false
   },
   "outputs": [
    {
     "data": {
      "text/plain": [
       "600"
      ]
     },
     "execution_count": 26,
     "metadata": {},
     "output_type": "execute_result"
    }
   ],
   "source": [
    "textfile_rdd = sc.textFile(\"README.md\")\n",
    "textfile_rdd.count()"
   ]
  },
  {
   "cell_type": "markdown",
   "metadata": {},
   "source": [
    "<a id=\"wordfile3\"></a>\n",
    "### 5.3 Filter for a word \n",
    "Filter the RDD to keep only the elements that contain the word \"Spark\" with the `filter` transformation:"
   ]
  },
  {
   "cell_type": "code",
   "execution_count": 27,
   "metadata": {
    "collapsed": false
   },
   "outputs": [
    {
     "data": {
      "text/plain": [
       "u'  <title>SparkPOT/README.md at master \\xb7 carloapp2/SparkPOT \\xb7 GitHub</title>'"
      ]
     },
     "execution_count": 27,
     "metadata": {},
     "output_type": "execute_result"
    }
   ],
   "source": [
    "Spark_lines = textfile_rdd.filter(lambda line: \"Spark\" in line)\n",
    "Spark_lines.first()"
   ]
  },
  {
   "cell_type": "markdown",
   "metadata": {},
   "source": [
    "Count the number of elements in this filtered RDD and present the result as a concatenated string:"
   ]
  },
  {
   "cell_type": "code",
   "execution_count": 28,
   "metadata": {
    "collapsed": false
   },
   "outputs": [
    {
     "name": "stdout",
     "output_type": "stream",
     "text": [
      "The file README.md has 48 of 600 Lines with word Spark in it.\n"
     ]
    }
   ],
   "source": [
    "print \"The file README.md has \" + str(Spark_lines.count()) + \\\n",
    "\" of \" + str(textfile_rdd.count()) + \\\n",
    "\" Lines with word Spark in it.\""
   ]
  },
  {
   "cell_type": "markdown",
   "metadata": {},
   "source": [
    "<a id=\"wordfile4\"></a>\n",
    "### 5.4 Count the instances of a string at the beginning of words\n",
    "Count the number of times the substring \"Spark\" appears at the beginning of a word in the original text.\n",
    "\n",
    "Here's what you need to do: \n",
    "\n",
    "1. Run a `flatMap` transformation on the Spark_lines RDD and split on white spaces.\n",
    "2. Create an RDD with key-value pairs where the first element of the tuple is the word and the second element is the number 1.\n",
    "3. Run a `reduceByKey` method with the `add` function to count the number of instances of each word.<br>\n",
    "4. Filter the resulting RDD to keep only the elements that start with the word \"Spark\". In Python, the syntax to determine whether a string starts with a token is: `string.startswith(\"token\")` \n",
    "5. Display the resulting list of elements that start with \"Spark\"."
   ]
  },
  {
   "cell_type": "code",
   "execution_count": 29,
   "metadata": {
    "collapsed": false
   },
   "outputs": [
    {
     "data": {
      "text/plain": [
       "[(u'Spark</h2>', 1),\n",
       " (u'SparkPOT:master\"', 1),\n",
       " (u'Spark', 9),\n",
       " (u'Spark.</p>', 1),\n",
       " (u'SparkPi', 2),\n",
       " (u'Spark</a>.', 1),\n",
       " (u'Spark\"</a>.</p>', 1),\n",
       " (u'Spark</h1>', 1)]"
      ]
     },
     "execution_count": 29,
     "metadata": {},
     "output_type": "execute_result"
    }
   ],
   "source": [
    "temp = Spark_lines.flatMap(lambda line:line.split(\" \")).map(lambda x:(x,1)).reduceByKey(add)\n",
    "temp.filter(lambda (k,v): k.startswith(\"Spark\")).collect()"
   ]
  },
  {
   "cell_type": "markdown",
   "metadata": {},
   "source": [
    "<a id=\"wordfile5\"></a>\n",
    "### 5.5 Count instances of a string within words\n",
    "Now filter and display the elements that contain the substring \"Spark\" anywhere in the word, instead of just at the beginning of words like the last section. Your result should be a superset of the previous result.\n",
    "\n",
    "The Python syntax to determine whether a string contains a particular token is: `\"token\" in string`"
   ]
  },
  {
   "cell_type": "code",
   "execution_count": 30,
   "metadata": {
    "collapsed": false
   },
   "outputs": [
    {
     "data": {
      "text/plain": [
       "[(u'href=\"/carloapp2/SparkPOT\"', 2),\n",
       " (u'href=\"https://github.com/carloapp2/SparkPOT/commits/master.atom\"', 1),\n",
       " (u'href=\"/carloapp2/SparkPOT/blob/bd25b91f1c46052cbee0d9f80beb644304893a9a/README.md\"',\n",
       "  1),\n",
       " (u'href=\"/carloapp2/SparkPOT/issues\"', 1),\n",
       " (u'content=\"github.com/carloapp2/SparkPOT', 1),\n",
       " (u'href=\"/carloapp2/SparkPOT/pulse\"', 1),\n",
       " (u'href=\"/login?return_to=%2Fcarloapp2%2FSparkPOT%2Fblob%2Fmaster%2FREADME.md\"',\n",
       "  1),\n",
       " (u'Spark</h2>', 1),\n",
       " (u'href=\"/carloapp2/SparkPOT/blame/master/README.md\"', 1),\n",
       " (u'href=\"/carloapp2/SparkPOT/projects\"', 1),\n",
       " (u'SparkPOT:master\"', 1),\n",
       " (u'/carloapp2/SparkPOT/graphs\">', 1),\n",
       " (u'href=\"/carloapp2/SparkPOT/stargazers\"', 1),\n",
       " (u'href=\"/carloapp2/SparkPOT\"><span>SparkPOT</span></a></span></span><span',\n",
       "  1),\n",
       " (u'href=\"https://github.com/carloapp2/SparkPOT/blob/master/README.md\"', 1),\n",
       " (u'Spark', 9),\n",
       " (u'Spark.</p>', 1),\n",
       " (u'/carloapp2/SparkPOT\"', 1),\n",
       " (u'/carloapp2/SparkPOT/issues\"', 1),\n",
       " (u'https://github.com/carloapp2/SparkPOT.git\">', 1),\n",
       " (u'href=\"/carloapp2/SparkPOT/network\"', 1),\n",
       " (u'carloapp2/SparkPOT', 1),\n",
       " (u'SparkPi', 2),\n",
       " (u'href=\"https://cwiki.apache.org/confluence/display/SPARK/Contributing+to+Spark#ContributingtoSpark-AutomatedTesting\">run',\n",
       "  1),\n",
       " (u'href=\"/carloapp2/SparkPOT/commits/master/README.md\"', 1),\n",
       " (u'Spark</a>.', 1),\n",
       " (u'data-scoped-search-url=\"/carloapp2/SparkPOT/search\"', 1),\n",
       " (u'href=\"/login?return_to=%2Fcarloapp2%2FSparkPOT\"', 3),\n",
       " (u'<title>SparkPOT/README.md', 1),\n",
       " (u'action=\"/carloapp2/SparkPOT/search\"', 1),\n",
       " (u'href=\"/carloapp2/SparkPOT/blob/master/README.md\"', 1),\n",
       " (u'/carloapp2/SparkPOT/projects\">', 1),\n",
       " (u'<p>Spark', 4),\n",
       " (u'/carloapp2/SparkPOT/pulls\"', 1),\n",
       " (u'href=\"/carloapp2/SparkPOT/graphs\"', 1),\n",
       " (u'Spark\"</a>.</p>', 1),\n",
       " (u'href=\"/carloapp2/SparkPOT/find/master\"', 1),\n",
       " (u'src=\"/carloapp2/SparkPOT/contributors/master/README.md\">', 1),\n",
       " (u'/carloapp2/SparkPOT/pulse\">', 1),\n",
       " (u'content=\"carloapp2/SparkPOT\"', 2),\n",
       " (u'href=\"/carloapp2/SparkPOT/pulls\"', 1),\n",
       " (u'data-pjax=\"#js-repo-pjax-container\">SparkPOT</a></strong>', 1),\n",
       " (u'Spark</h1>', 1),\n",
       " (u'href=\"/carloapp2/SparkPOT/watchers\"', 1),\n",
       " (u'content=\"SparkPOT', 1),\n",
       " (u'href=\"/carloapp2/SparkPOT/raw/master/README.md\"', 1)]"
      ]
     },
     "execution_count": 30,
     "metadata": {},
     "output_type": "execute_result"
    }
   ],
   "source": [
    "temp.filter(lambda (k,v): \"Spark\" in k).collect()"
   ]
  },
  {
   "cell_type": "markdown",
   "metadata": {},
   "source": [
    "<a id=\"numfile\"></a>\n",
    "## 6. Analyze numeric data from a file\n",
    "You'll analyze a sample file that contains instructor names and scores. The file has the following format: Instructor Name,Score1,Score2,Score3,Score4. \n",
    "Here is an example line from the text file: \"Carlo,5,3,3,4\"\n",
    "\n",
    "Add all scores and report on results:\n",
    "\n",
    "1. Download the file.\n",
    "1. Load the text file into an RDD.\n",
    "1. Run a transformation to create an RDD with the instructor names and the sum of the 4 scores per instructor.\n",
    "1. Run a second transformation to compute the average score for each instructor.\n",
    "1. Display the first 5 results."
   ]
  },
  {
   "cell_type": "code",
   "execution_count": 31,
   "metadata": {
    "collapsed": false,
    "scrolled": true
   },
   "outputs": [
    {
     "name": "stdout",
     "output_type": "stream",
     "text": [
      "--2017-02-22 20:35:20--  https://raw.githubusercontent.com/carloapp2/SparkPOT/master/Scores.txt\n",
      "Resolving raw.githubusercontent.com (raw.githubusercontent.com)... 151.101.48.133\n",
      "Connecting to raw.githubusercontent.com (raw.githubusercontent.com)|151.101.48.133|:443... connected.\n",
      "HTTP request sent, awaiting response... 200 OK\n",
      "Length: 75 [text/plain]\n",
      "Saving to: ‘Scores.txt’\n",
      "\n",
      "100%[======================================>] 75          --.-K/s   in 0s      \n",
      "\n",
      "2017-02-22 20:35:20 (19.9 MB/s) - ‘Scores.txt’ saved [75/75]\n",
      "\n"
     ]
    },
    {
     "data": {
      "text/plain": [
       "[(u'Carlo', 15, 3.75),\n",
       " (u'Mokhtar', 15, 3.75),\n",
       " (u'Jacques', 15, 3.75),\n",
       " (u'Braden', 15, 3.75),\n",
       " (u'Chris', 15, 3.75)]"
      ]
     },
     "execution_count": 31,
     "metadata": {},
     "output_type": "execute_result"
    }
   ],
   "source": [
    "!rm Scores.txt* -f\n",
    "!wget https://raw.githubusercontent.com/carloapp2/SparkPOT/master/Scores.txt\n",
    " \n",
    "Raw_Rdd = sc.textFile(\"Scores.txt\")\n",
    "\n",
    "SumScores = Raw_Rdd.map(lambda l: l.split(\",\")).\\\n",
    "map(lambda v : (v[0], int(v[1])+int(v[2])+int(v[3])+int(v[4])))\n",
    "\n",
    "Final = SumScores.map(lambda avg: (avg[0],avg[1],avg[1]/4.0))\n",
    "\n",
    "Final.take(5)"
   ]
  },
  {
   "cell_type": "markdown",
   "metadata": {},
   "source": [
    "<a id=\"getstarted\"></a>\n",
    "## 7. Spark SQL\n",
    "This notebook guides you through querying data with Apache Spark, including how to create and use DataFrames, run SQL queries, apply functions to the results of SQL queries, join data from different data sources, and visualize data in graphs.\n",
    "\n",
    "This notebook uses pySpark, the Python API for Spark. Some knowledge of Python is recommended. This notebook runs on Python 2 with Spark 1.6 and 2.0.\n",
    "\n",
    "If you are new to Apache Spark, see the first module in this series: __Introduction to Apache Spark: Basic Concepts__. (need link when published)\n",
    "\n",
    "Before you can run SQL queries on data in an Apache Spark environment, you need to enable SQL processing and then move the data to the structured format of a DataFrame."
   ]
  },
  {
   "cell_type": "markdown",
   "metadata": {},
   "source": [
    "<a id=\"sqlprocessing\"></a>\n",
    "### 7.1 Enable SQL processing\n",
    "The way you enable SQL processing with Spark 1.6 is to create an SQLContext. With Spark 2.0, the preferred method is to use the new SparkSession object, but the SQLContext object is still supported. \n",
    "\n",
    "Use the predefined Spark Context, `sc`, which contains the connection information for Spark, to create an SQLContext:"
   ]
  },
  {
   "cell_type": "code",
   "execution_count": 32,
   "metadata": {
    "collapsed": true
   },
   "outputs": [],
   "source": [
    "from pyspark.sql import SQLContext\n",
    "sqlContext = SQLContext(sc)"
   ]
  },
  {
   "cell_type": "markdown",
   "metadata": {},
   "source": [
    "<a id=\"download\"></a>\n",
    "### 7.2 Download the data file\n",
    "\n",
    "You'll download a JSON file with data about world banks from GitHub.\n",
    "\n",
    "Remove any files with the same name as the file that you're going to download and then download the file from a URL:"
   ]
  },
  {
   "cell_type": "code",
   "execution_count": 33,
   "metadata": {
    "collapsed": false
   },
   "outputs": [
    {
     "name": "stdout",
     "output_type": "stream",
     "text": [
      "--2017-02-22 20:35:28--  https://raw.githubusercontent.com/bradenrc/sparksql_pot/master/world_bank.json.gz\n",
      "Resolving raw.githubusercontent.com (raw.githubusercontent.com)... 151.101.48.133\n",
      "Connecting to raw.githubusercontent.com (raw.githubusercontent.com)|151.101.48.133|:443... connected.\n",
      "HTTP request sent, awaiting response... 200 OK\n",
      "Length: 446287 (436K) [application/octet-stream]\n",
      "Saving to: ‘world_bank.json.gz’\n",
      "\n",
      "100%[======================================>] 446,287     --.-K/s   in 0.02s   \n",
      "\n",
      "2017-02-22 20:35:28 (17.2 MB/s) - ‘world_bank.json.gz’ saved [446287/446287]\n",
      "\n"
     ]
    }
   ],
   "source": [
    "!rm world_bank.json.gz -f\n",
    "!wget https://raw.githubusercontent.com/bradenrc/sparksql_pot/master/world_bank.json.gz"
   ]
  },
  {
   "cell_type": "markdown",
   "metadata": {},
   "source": [
    "<a id=\"createdf\"></a>\n",
    "### 7.3 Create a DataFrame \n",
    "\n",
    "Instead of creating an RDD to read the file, you'll create a Spark DataFrame. Unlike an RDD, a DataFrame creates a schema around the data, which supplies the necessary structure for SQL queries. A self-describing format like JSON is ideal for DataFrames, but many other file types are supported, including text (CSV) and Parquet.\n",
    "\n",
    "Create a DataFrame:"
   ]
  },
  {
   "cell_type": "code",
   "execution_count": 34,
   "metadata": {
    "collapsed": false
   },
   "outputs": [],
   "source": [
    "example1_df = sqlContext.read.json(\"world_bank.json.gz\")"
   ]
  },
  {
   "cell_type": "markdown",
   "metadata": {},
   "source": [
    "Print the schema to see how Spark SQL inferred the shape of the data:"
   ]
  },
  {
   "cell_type": "code",
   "execution_count": 35,
   "metadata": {
    "collapsed": false
   },
   "outputs": [
    {
     "name": "stdout",
     "output_type": "stream",
     "text": [
      "root\n",
      " |-- _id: struct (nullable = true)\n",
      " |    |-- $oid: string (nullable = true)\n",
      " |-- approvalfy: string (nullable = true)\n",
      " |-- board_approval_month: string (nullable = true)\n",
      " |-- boardapprovaldate: string (nullable = true)\n",
      " |-- borrower: string (nullable = true)\n",
      " |-- closingdate: string (nullable = true)\n",
      " |-- country_namecode: string (nullable = true)\n",
      " |-- countrycode: string (nullable = true)\n",
      " |-- countryname: string (nullable = true)\n",
      " |-- countryshortname: string (nullable = true)\n",
      " |-- docty: string (nullable = true)\n",
      " |-- envassesmentcategorycode: string (nullable = true)\n",
      " |-- grantamt: long (nullable = true)\n",
      " |-- ibrdcommamt: long (nullable = true)\n",
      " |-- id: string (nullable = true)\n",
      " |-- idacommamt: long (nullable = true)\n",
      " |-- impagency: string (nullable = true)\n",
      " |-- lendinginstr: string (nullable = true)\n",
      " |-- lendinginstrtype: string (nullable = true)\n",
      " |-- lendprojectcost: long (nullable = true)\n",
      " |-- majorsector_percent: array (nullable = true)\n",
      " |    |-- element: struct (containsNull = true)\n",
      " |    |    |-- Name: string (nullable = true)\n",
      " |    |    |-- Percent: long (nullable = true)\n",
      " |-- mjsector_namecode: array (nullable = true)\n",
      " |    |-- element: struct (containsNull = true)\n",
      " |    |    |-- code: string (nullable = true)\n",
      " |    |    |-- name: string (nullable = true)\n",
      " |-- mjtheme: array (nullable = true)\n",
      " |    |-- element: string (containsNull = true)\n",
      " |-- mjtheme_namecode: array (nullable = true)\n",
      " |    |-- element: struct (containsNull = true)\n",
      " |    |    |-- code: string (nullable = true)\n",
      " |    |    |-- name: string (nullable = true)\n",
      " |-- mjthemecode: string (nullable = true)\n",
      " |-- prodline: string (nullable = true)\n",
      " |-- prodlinetext: string (nullable = true)\n",
      " |-- productlinetype: string (nullable = true)\n",
      " |-- project_abstract: struct (nullable = true)\n",
      " |    |-- cdata: string (nullable = true)\n",
      " |-- project_name: string (nullable = true)\n",
      " |-- projectdocs: array (nullable = true)\n",
      " |    |-- element: struct (containsNull = true)\n",
      " |    |    |-- DocDate: string (nullable = true)\n",
      " |    |    |-- DocType: string (nullable = true)\n",
      " |    |    |-- DocTypeDesc: string (nullable = true)\n",
      " |    |    |-- DocURL: string (nullable = true)\n",
      " |    |    |-- EntityID: string (nullable = true)\n",
      " |-- projectfinancialtype: string (nullable = true)\n",
      " |-- projectstatusdisplay: string (nullable = true)\n",
      " |-- regionname: string (nullable = true)\n",
      " |-- sector: array (nullable = true)\n",
      " |    |-- element: struct (containsNull = true)\n",
      " |    |    |-- Name: string (nullable = true)\n",
      " |-- sector1: struct (nullable = true)\n",
      " |    |-- Name: string (nullable = true)\n",
      " |    |-- Percent: long (nullable = true)\n",
      " |-- sector2: struct (nullable = true)\n",
      " |    |-- Name: string (nullable = true)\n",
      " |    |-- Percent: long (nullable = true)\n",
      " |-- sector3: struct (nullable = true)\n",
      " |    |-- Name: string (nullable = true)\n",
      " |    |-- Percent: long (nullable = true)\n",
      " |-- sector4: struct (nullable = true)\n",
      " |    |-- Name: string (nullable = true)\n",
      " |    |-- Percent: long (nullable = true)\n",
      " |-- sector_namecode: array (nullable = true)\n",
      " |    |-- element: struct (containsNull = true)\n",
      " |    |    |-- code: string (nullable = true)\n",
      " |    |    |-- name: string (nullable = true)\n",
      " |-- sectorcode: string (nullable = true)\n",
      " |-- source: string (nullable = true)\n",
      " |-- status: string (nullable = true)\n",
      " |-- supplementprojectflg: string (nullable = true)\n",
      " |-- theme1: struct (nullable = true)\n",
      " |    |-- Name: string (nullable = true)\n",
      " |    |-- Percent: long (nullable = true)\n",
      " |-- theme_namecode: array (nullable = true)\n",
      " |    |-- element: struct (containsNull = true)\n",
      " |    |    |-- code: string (nullable = true)\n",
      " |    |    |-- name: string (nullable = true)\n",
      " |-- themecode: string (nullable = true)\n",
      " |-- totalamt: long (nullable = true)\n",
      " |-- totalcommamt: long (nullable = true)\n",
      " |-- url: string (nullable = true)\n",
      "\n",
      "None\n"
     ]
    }
   ],
   "source": [
    "print example1_df.printSchema()"
   ]
  },
  {
   "cell_type": "markdown",
   "metadata": {},
   "source": [
    "Now look at the first two rows of data.\n",
    "\n",
    "You can run the simple command `print example1_df.take(2)`, however, for readability, run the following command to include a row of asterisks in between the data rows:"
   ]
  },
  {
   "cell_type": "code",
   "execution_count": 36,
   "metadata": {
    "collapsed": false
   },
   "outputs": [
    {
     "name": "stdout",
     "output_type": "stream",
     "text": [
      "Row(_id=Row($oid=u'52b213b38594d8a2be17c780'), approvalfy=u'1999', board_approval_month=u'November', boardapprovaldate=u'2013-11-12T00:00:00Z', borrower=u'FEDERAL DEMOCRATIC REPUBLIC OF ETHIOPIA', closingdate=u'2018-07-07T00:00:00Z', country_namecode=u'Federal Democratic Republic of Ethiopia!$!ET', countrycode=u'ET', countryname=u'Federal Democratic Republic of Ethiopia', countryshortname=u'Ethiopia', docty=u'Project Information Document,Indigenous Peoples Plan,Project Information Document', envassesmentcategorycode=u'C', grantamt=0, ibrdcommamt=0, id=u'P129828', idacommamt=130000000, impagency=u'MINISTRY OF EDUCATION', lendinginstr=u'Investment Project Financing', lendinginstrtype=u'IN', lendprojectcost=550000000, majorsector_percent=[Row(Name=u'Education', Percent=46), Row(Name=u'Education', Percent=26), Row(Name=u'Public Administration, Law, and Justice', Percent=16), Row(Name=u'Education', Percent=12)], mjsector_namecode=[Row(code=u'EX', name=u'Education'), Row(code=u'EX', name=u'Education'), Row(code=u'BX', name=u'Public Administration, Law, and Justice'), Row(code=u'EX', name=u'Education')], mjtheme=[u'Human development'], mjtheme_namecode=[Row(code=u'8', name=u'Human development'), Row(code=u'11', name=u'')], mjthemecode=u'8,11', prodline=u'PE', prodlinetext=u'IBRD/IDA', productlinetype=u'L', project_abstract=Row(cdata=u'The development objective of the Second Phase of General Education Quality Improvement Project for Ethiopia is to improve learning conditions in primary and secondary schools and strengthen institutions at different levels of educational administration. The project has six components. The first component is curriculum, textbooks, assessment, examinations, and inspection. This component will support improvement of learning conditions in grades KG-12 by providing increased access to teaching and learning materials and through improvements to the curriculum by assessing the strengths and weaknesses of the current curriculum. This component has following four sub-components: (i) curriculum reform and implementation; (ii) teaching and learning materials; (iii) assessment and examinations; and (iv) inspection. The second component is teacher development program (TDP). This component will support improvements in learning conditions in both primary and secondary schools by advancing the quality of teaching in general education through: (a) enhancing the training of pre-service teachers in teacher education institutions; and (b) improving the quality of in-service teacher training. This component has following three sub-components: (i) pre-service teacher training; (ii) in-service teacher training; and (iii) licensing and relicensing of teachers and school leaders. The third component is school improvement plan. This component will support the strengthening of school planning in order to improve learning outcomes, and to partly fund the school improvement plans through school grants. It has following two sub-components: (i) school improvement plan; and (ii) school grants. The fourth component is management and capacity building, including education management information systems (EMIS). This component will support management and capacity building aspect of the project. This component has following three sub-components: (i) capacity building for education planning and management; (ii) capacity building for school planning and management; and (iii) EMIS. The fifth component is improving the quality of learning and teaching in secondary schools and universities through the use of information and communications technology (ICT). It has following five sub-components: (i) national policy and institution for ICT in general education; (ii) national ICT infrastructure improvement plan for general education; (iii) develop an integrated monitoring, evaluation, and learning system specifically for the ICT component; (iv) teacher professional development in the use of ICT; and (v) provision of limited number of e-Braille display readers with the possibility to scale up to all secondary education schools based on the successful implementation and usage of the readers. The sixth component is program coordination, monitoring and evaluation, and communication. It will support institutional strengthening by developing capacities in all aspects of program coordination, monitoring and evaluation; a new sub-component on communications will support information sharing for better management and accountability. It has following three sub-components: (i) program coordination; (ii) monitoring and evaluation (M and E); and (iii) communication.'), project_name=u'Ethiopia General Education Quality Improvement Project II', projectdocs=[Row(DocDate=u'28-AUG-2013', DocType=u'PID', DocTypeDesc=u'Project Information Document (PID),  Vol.', DocURL=u'http://www-wds.worldbank.org/servlet/WDSServlet?pcont=details&eid=090224b081e545fb_1_0', EntityID=u'090224b081e545fb_1_0'), Row(DocDate=u'01-JUL-2013', DocType=u'IP', DocTypeDesc=u'Indigenous Peoples Plan (IP),  Vol.1 of 1', DocURL=u'http://www-wds.worldbank.org/servlet/WDSServlet?pcont=details&eid=000442464_20130920111729', EntityID=u'000442464_20130920111729'), Row(DocDate=u'22-NOV-2012', DocType=u'PID', DocTypeDesc=u'Project Information Document (PID),  Vol.', DocURL=u'http://www-wds.worldbank.org/servlet/WDSServlet?pcont=details&eid=090224b0817b19e2_1_0', EntityID=u'090224b0817b19e2_1_0')], projectfinancialtype=u'IDA', projectstatusdisplay=u'Active', regionname=u'Africa', sector=[Row(Name=u'Primary education'), Row(Name=u'Secondary education'), Row(Name=u'Public administration- Other social services'), Row(Name=u'Tertiary education')], sector1=Row(Name=u'Primary education', Percent=46), sector2=Row(Name=u'Secondary education', Percent=26), sector3=Row(Name=u'Public administration- Other social services', Percent=16), sector4=Row(Name=u'Tertiary education', Percent=12), sector_namecode=[Row(code=u'EP', name=u'Primary education'), Row(code=u'ES', name=u'Secondary education'), Row(code=u'BS', name=u'Public administration- Other social services'), Row(code=u'ET', name=u'Tertiary education')], sectorcode=u'ET,BS,ES,EP', source=u'IBRD', status=u'Active', supplementprojectflg=u'N', theme1=Row(Name=u'Education for all', Percent=100), theme_namecode=[Row(code=u'65', name=u'Education for all')], themecode=u'65', totalamt=130000000, totalcommamt=130000000, url=u'http://www.worldbank.org/projects/P129828/ethiopia-general-education-quality-improvement-project-ii?lang=en')\n",
      "********************\n",
      "Row(_id=Row($oid=u'52b213b38594d8a2be17c781'), approvalfy=u'2015', board_approval_month=u'November', boardapprovaldate=u'2013-11-04T00:00:00Z', borrower=u'GOVERNMENT OF TUNISIA', closingdate=None, country_namecode=u'Republic of Tunisia!$!TN', countrycode=u'TN', countryname=u'Republic of Tunisia', countryshortname=u'Tunisia', docty=u'Project Information Document,Integrated Safeguards Data Sheet,Integrated Safeguards Data Sheet,Project Information Document,Integrated Safeguards Data Sheet,Project Information Document', envassesmentcategorycode=u'C', grantamt=4700000, ibrdcommamt=0, id=u'P144674', idacommamt=0, impagency=u'MINISTRY OF FINANCE', lendinginstr=u'Specific Investment Loan', lendinginstrtype=u'IN', lendprojectcost=5700000, majorsector_percent=[Row(Name=u'Public Administration, Law, and Justice', Percent=70), Row(Name=u'Public Administration, Law, and Justice', Percent=30)], mjsector_namecode=[Row(code=u'BX', name=u'Public Administration, Law, and Justice'), Row(code=u'BX', name=u'Public Administration, Law, and Justice')], mjtheme=[u'Economic management', u'Social protection and risk management'], mjtheme_namecode=[Row(code=u'1', name=u'Economic management'), Row(code=u'6', name=u'Social protection and risk management')], mjthemecode=u'1,6', prodline=u'RE', prodlinetext=u'Recipient Executed Activities', productlinetype=u'L', project_abstract=None, project_name=u'TN: DTF Social Protection Reforms Support', projectdocs=[Row(DocDate=u'29-MAR-2013', DocType=u'PID', DocTypeDesc=u'Project Information Document (PID),  Vol.1 of 1', DocURL=u'http://www-wds.worldbank.org/servlet/WDSServlet?pcont=details&eid=000333037_20131024115616', EntityID=u'000333037_20131024115616'), Row(DocDate=u'29-MAR-2013', DocType=u'ISDS', DocTypeDesc=u'Integrated Safeguards Data Sheet (ISDS),  Vol.1 of 1', DocURL=u'http://www-wds.worldbank.org/servlet/WDSServlet?pcont=details&eid=000356161_20131024151611', EntityID=u'000356161_20131024151611'), Row(DocDate=u'29-MAR-2013', DocType=u'ISDS', DocTypeDesc=u'Integrated Safeguards Data Sheet (ISDS),  Vol.1 of 1', DocURL=u'http://www-wds.worldbank.org/servlet/WDSServlet?pcont=details&eid=000442464_20131031112136', EntityID=u'000442464_20131031112136'), Row(DocDate=u'29-MAR-2013', DocType=u'PID', DocTypeDesc=u'Project Information Document (PID),  Vol.1 of 1', DocURL=u'http://www-wds.worldbank.org/servlet/WDSServlet?pcont=details&eid=000333037_20131031105716', EntityID=u'000333037_20131031105716'), Row(DocDate=u'16-JAN-2013', DocType=u'ISDS', DocTypeDesc=u'Integrated Safeguards Data Sheet (ISDS),  Vol.1 of 1', DocURL=u'http://www-wds.worldbank.org/servlet/WDSServlet?pcont=details&eid=000356161_20130305113209', EntityID=u'000356161_20130305113209'), Row(DocDate=u'16-JAN-2013', DocType=u'PID', DocTypeDesc=u'Project Information Document (PID),  Vol.1 of 1', DocURL=u'http://www-wds.worldbank.org/servlet/WDSServlet?pcont=details&eid=000356161_20130305113716', EntityID=u'000356161_20130305113716')], projectfinancialtype=u'OTHER', projectstatusdisplay=u'Active', regionname=u'Middle East and North Africa', sector=[Row(Name=u'Public administration- Other social services'), Row(Name=u'General public administration sector')], sector1=Row(Name=u'Public administration- Other social services', Percent=70), sector2=Row(Name=u'General public administration sector', Percent=30), sector3=None, sector4=None, sector_namecode=[Row(code=u'BS', name=u'Public administration- Other social services'), Row(code=u'BZ', name=u'General public administration sector')], sectorcode=u'BZ,BS', source=u'IBRD', status=u'Active', supplementprojectflg=u'N', theme1=Row(Name=u'Other economic management', Percent=30), theme_namecode=[Row(code=u'24', name=u'Other economic management'), Row(code=u'54', name=u'Social safety nets')], themecode=u'54,24', totalamt=0, totalcommamt=4700000, url=u'http://www.worldbank.org/projects/P144674?lang=en')\n",
      "********************\n"
     ]
    }
   ],
   "source": [
    "for row in example1_df.take(2):\n",
    "    print row\n",
    "    print \"*\" * 20"
   ]
  },
  {
   "cell_type": "markdown",
   "metadata": {},
   "source": [
    "<a id=\"createtab\"></a>\n",
    "### 7.4 Create a table \n",
    "\n",
    "SQL statements must be run against a table. Create a table that's a pointer to the DataFrame:"
   ]
  },
  {
   "cell_type": "code",
   "execution_count": 37,
   "metadata": {
    "collapsed": true
   },
   "outputs": [],
   "source": [
    "example1_df.registerTempTable(\"world_bank\")"
   ]
  },
  {
   "cell_type": "markdown",
   "metadata": {},
   "source": [
    "<a id=\"runsql\"></a>\n",
    "## 8. Run SQL queries\n",
    "\n",
    "You must define a new DataFrame for the results of the SQL query and put the SQL statement inside the `sqlContext.sql()` method.\n",
    "\n",
    "Run the following cell to select all columns from the table and print information about the resulting DataFrame and schema of the data:"
   ]
  },
  {
   "cell_type": "code",
   "execution_count": 38,
   "metadata": {
    "collapsed": false
   },
   "outputs": [
    {
     "name": "stdout",
     "output_type": "stream",
     "text": [
      "<class 'pyspark.sql.dataframe.DataFrame'>\n",
      "********************\n",
      "DataFrame[_id: struct<$oid:string>, approvalfy: string, board_approval_month: string, boardapprovaldate: string, borrower: string, closingdate: string, country_namecode: string, countrycode: string, countryname: string, countryshortname: string, docty: string, envassesmentcategorycode: string, grantamt: bigint, ibrdcommamt: bigint, id: string, idacommamt: bigint, impagency: string, lendinginstr: string, lendinginstrtype: string, lendprojectcost: bigint, majorsector_percent: array<struct<Name:string,Percent:bigint>>, mjsector_namecode: array<struct<code:string,name:string>>, mjtheme: array<string>, mjtheme_namecode: array<struct<code:string,name:string>>, mjthemecode: string, prodline: string, prodlinetext: string, productlinetype: string, project_abstract: struct<cdata:string>, project_name: string, projectdocs: array<struct<DocDate:string,DocType:string,DocTypeDesc:string,DocURL:string,EntityID:string>>, projectfinancialtype: string, projectstatusdisplay: string, regionname: string, sector: array<struct<Name:string>>, sector1: struct<Name:string,Percent:bigint>, sector2: struct<Name:string,Percent:bigint>, sector3: struct<Name:string,Percent:bigint>, sector4: struct<Name:string,Percent:bigint>, sector_namecode: array<struct<code:string,name:string>>, sectorcode: string, source: string, status: string, supplementprojectflg: string, theme1: struct<Name:string,Percent:bigint>, theme_namecode: array<struct<code:string,name:string>>, themecode: string, totalamt: bigint, totalcommamt: bigint, url: string]\n"
     ]
    }
   ],
   "source": [
    "temp_df =  sqlContext.sql(\"select * from world_bank\")\n",
    "\n",
    "print type(temp_df)\n",
    "print \"*\" * 20\n",
    "print temp_df"
   ]
  },
  {
   "cell_type": "markdown",
   "metadata": {},
   "source": [
    "The first `print` command shows that the DataFrame is a Spark DataFrame. The last `print` command shows the column names and data types of the DataFrame."
   ]
  },
  {
   "cell_type": "markdown",
   "metadata": {},
   "source": [
    "<a id=\"pandas\"></a>\n",
    "### 8.1 Display query results with a pandas DataFrame\n",
    "The `print` command doesn't show the data in a useful format. Instead of creating a Spark DataFrame, use the pandas open-source data analytics library to create a pandas DataFrame that shows the data in a table. \n",
    "\n",
    "Import the pandas library and use the `.toPandas()` method to show the query results:"
   ]
  },
  {
   "cell_type": "code",
   "execution_count": 39,
   "metadata": {
    "collapsed": false
   },
   "outputs": [
    {
     "data": {
      "text/html": [
       "<div>\n",
       "<table border=\"1\" class=\"dataframe\">\n",
       "  <thead>\n",
       "    <tr style=\"text-align: right;\">\n",
       "      <th></th>\n",
       "      <th>id</th>\n",
       "      <th>borrower</th>\n",
       "    </tr>\n",
       "  </thead>\n",
       "  <tbody>\n",
       "    <tr>\n",
       "      <th>0</th>\n",
       "      <td>P129828</td>\n",
       "      <td>FEDERAL DEMOCRATIC REPUBLIC OF ETHIOPIA</td>\n",
       "    </tr>\n",
       "    <tr>\n",
       "      <th>1</th>\n",
       "      <td>P144674</td>\n",
       "      <td>GOVERNMENT OF TUNISIA</td>\n",
       "    </tr>\n",
       "  </tbody>\n",
       "</table>\n",
       "</div>"
      ],
      "text/plain": [
       "        id                                 borrower\n",
       "0  P129828  FEDERAL DEMOCRATIC REPUBLIC OF ETHIOPIA\n",
       "1  P144674                    GOVERNMENT OF TUNISIA"
      ]
     },
     "execution_count": 39,
     "metadata": {},
     "output_type": "execute_result"
    }
   ],
   "source": [
    "import pandas as pd\n",
    "sqlContext.sql(\"select id, borrower from world_bank limit 2\").toPandas()"
   ]
  },
  {
   "cell_type": "markdown",
   "metadata": {},
   "source": [
    "<a id=\"groupby\"></a>\n",
    "### 8.2 Run a group by query\n",
    "\n",
    "You can make your SQL queries easier to read by using the `query` keyword and surrounding the SQL query with `\"\"\"` on separate lines. \n",
    "\n",
    "Calculate a count of projects by region:"
   ]
  },
  {
   "cell_type": "code",
   "execution_count": 40,
   "metadata": {
    "collapsed": false
   },
   "outputs": [
    {
     "data": {
      "text/html": [
       "<div>\n",
       "<table border=\"1\" class=\"dataframe\">\n",
       "  <thead>\n",
       "    <tr style=\"text-align: right;\">\n",
       "      <th></th>\n",
       "      <th>regionname</th>\n",
       "      <th>project_count</th>\n",
       "    </tr>\n",
       "  </thead>\n",
       "  <tbody>\n",
       "    <tr>\n",
       "      <th>0</th>\n",
       "      <td>Africa</td>\n",
       "      <td>152</td>\n",
       "    </tr>\n",
       "    <tr>\n",
       "      <th>1</th>\n",
       "      <td>East Asia and Pacific</td>\n",
       "      <td>100</td>\n",
       "    </tr>\n",
       "    <tr>\n",
       "      <th>2</th>\n",
       "      <td>Europe and Central Asia</td>\n",
       "      <td>74</td>\n",
       "    </tr>\n",
       "    <tr>\n",
       "      <th>3</th>\n",
       "      <td>South Asia</td>\n",
       "      <td>65</td>\n",
       "    </tr>\n",
       "    <tr>\n",
       "      <th>4</th>\n",
       "      <td>Middle East and North Africa</td>\n",
       "      <td>54</td>\n",
       "    </tr>\n",
       "    <tr>\n",
       "      <th>5</th>\n",
       "      <td>Latin America and Caribbean</td>\n",
       "      <td>53</td>\n",
       "    </tr>\n",
       "    <tr>\n",
       "      <th>6</th>\n",
       "      <td>Other</td>\n",
       "      <td>2</td>\n",
       "    </tr>\n",
       "  </tbody>\n",
       "</table>\n",
       "</div>"
      ],
      "text/plain": [
       "                     regionname  project_count\n",
       "0                        Africa            152\n",
       "1         East Asia and Pacific            100\n",
       "2       Europe and Central Asia             74\n",
       "3                    South Asia             65\n",
       "4  Middle East and North Africa             54\n",
       "5   Latin America and Caribbean             53\n",
       "6                         Other              2"
      ]
     },
     "execution_count": 40,
     "metadata": {},
     "output_type": "execute_result"
    }
   ],
   "source": [
    "query = \"\"\"\n",
    "select\n",
    "    regionname ,\n",
    "    count(*) as project_count\n",
    "from world_bank\n",
    "group by regionname \n",
    "order by count(*) desc\n",
    "\"\"\"\n",
    "\n",
    "sqlContext.sql(query).toPandas()"
   ]
  },
  {
   "cell_type": "markdown",
   "metadata": {},
   "source": [
    "<a id=\"subselect\"></a>\n",
    "### 8.3 Run a subselect query\n",
    "You can run subselect queries.\n",
    "\n",
    "Calculate a count of projects by region again, but this time using a subselect:"
   ]
  },
  {
   "cell_type": "code",
   "execution_count": 41,
   "metadata": {
    "collapsed": false
   },
   "outputs": [
    {
     "data": {
      "text/html": [
       "<div>\n",
       "<table border=\"1\" class=\"dataframe\">\n",
       "  <thead>\n",
       "    <tr style=\"text-align: right;\">\n",
       "      <th></th>\n",
       "      <th>regionname</th>\n",
       "      <th>project_count</th>\n",
       "    </tr>\n",
       "  </thead>\n",
       "  <tbody>\n",
       "    <tr>\n",
       "      <th>0</th>\n",
       "      <td>Africa</td>\n",
       "      <td>152</td>\n",
       "    </tr>\n",
       "    <tr>\n",
       "      <th>1</th>\n",
       "      <td>East Asia and Pacific</td>\n",
       "      <td>100</td>\n",
       "    </tr>\n",
       "  </tbody>\n",
       "</table>\n",
       "</div>"
      ],
      "text/plain": [
       "              regionname  project_count\n",
       "0                 Africa            152\n",
       "1  East Asia and Pacific            100"
      ]
     },
     "execution_count": 41,
     "metadata": {},
     "output_type": "execute_result"
    }
   ],
   "source": [
    "query = \"\"\"\n",
    "\n",
    "select * from\n",
    "    (select\n",
    "        regionname ,\n",
    "        count(*) as project_count\n",
    "    from world_bank\n",
    "    group by regionname \n",
    "    order by count(*) desc) table_alias\n",
    "limit 2\n",
    "\"\"\"\n",
    "\n",
    "sqlContext.sql(query).toPandas()"
   ]
  },
  {
   "cell_type": "markdown",
   "metadata": {},
   "source": [
    "<a id=\"nested\"></a>\n",
    "### 8.4 Return nested JSON field values\n",
    "With JSON data, you can select the values of nested fields with dot notation.\n",
    "\n",
    "Print the schema so that you can see that `sector.Name` is a nested field and then select its first two values:"
   ]
  },
  {
   "cell_type": "code",
   "execution_count": 42,
   "metadata": {
    "collapsed": false
   },
   "outputs": [
    {
     "name": "stdout",
     "output_type": "stream",
     "text": [
      "root\n",
      " |-- _id: struct (nullable = true)\n",
      " |    |-- $oid: string (nullable = true)\n",
      " |-- approvalfy: string (nullable = true)\n",
      " |-- board_approval_month: string (nullable = true)\n",
      " |-- boardapprovaldate: string (nullable = true)\n",
      " |-- borrower: string (nullable = true)\n",
      " |-- closingdate: string (nullable = true)\n",
      " |-- country_namecode: string (nullable = true)\n",
      " |-- countrycode: string (nullable = true)\n",
      " |-- countryname: string (nullable = true)\n",
      " |-- countryshortname: string (nullable = true)\n",
      " |-- docty: string (nullable = true)\n",
      " |-- envassesmentcategorycode: string (nullable = true)\n",
      " |-- grantamt: long (nullable = true)\n",
      " |-- ibrdcommamt: long (nullable = true)\n",
      " |-- id: string (nullable = true)\n",
      " |-- idacommamt: long (nullable = true)\n",
      " |-- impagency: string (nullable = true)\n",
      " |-- lendinginstr: string (nullable = true)\n",
      " |-- lendinginstrtype: string (nullable = true)\n",
      " |-- lendprojectcost: long (nullable = true)\n",
      " |-- majorsector_percent: array (nullable = true)\n",
      " |    |-- element: struct (containsNull = true)\n",
      " |    |    |-- Name: string (nullable = true)\n",
      " |    |    |-- Percent: long (nullable = true)\n",
      " |-- mjsector_namecode: array (nullable = true)\n",
      " |    |-- element: struct (containsNull = true)\n",
      " |    |    |-- code: string (nullable = true)\n",
      " |    |    |-- name: string (nullable = true)\n",
      " |-- mjtheme: array (nullable = true)\n",
      " |    |-- element: string (containsNull = true)\n",
      " |-- mjtheme_namecode: array (nullable = true)\n",
      " |    |-- element: struct (containsNull = true)\n",
      " |    |    |-- code: string (nullable = true)\n",
      " |    |    |-- name: string (nullable = true)\n",
      " |-- mjthemecode: string (nullable = true)\n",
      " |-- prodline: string (nullable = true)\n",
      " |-- prodlinetext: string (nullable = true)\n",
      " |-- productlinetype: string (nullable = true)\n",
      " |-- project_abstract: struct (nullable = true)\n",
      " |    |-- cdata: string (nullable = true)\n",
      " |-- project_name: string (nullable = true)\n",
      " |-- projectdocs: array (nullable = true)\n",
      " |    |-- element: struct (containsNull = true)\n",
      " |    |    |-- DocDate: string (nullable = true)\n",
      " |    |    |-- DocType: string (nullable = true)\n",
      " |    |    |-- DocTypeDesc: string (nullable = true)\n",
      " |    |    |-- DocURL: string (nullable = true)\n",
      " |    |    |-- EntityID: string (nullable = true)\n",
      " |-- projectfinancialtype: string (nullable = true)\n",
      " |-- projectstatusdisplay: string (nullable = true)\n",
      " |-- regionname: string (nullable = true)\n",
      " |-- sector: array (nullable = true)\n",
      " |    |-- element: struct (containsNull = true)\n",
      " |    |    |-- Name: string (nullable = true)\n",
      " |-- sector1: struct (nullable = true)\n",
      " |    |-- Name: string (nullable = true)\n",
      " |    |-- Percent: long (nullable = true)\n",
      " |-- sector2: struct (nullable = true)\n",
      " |    |-- Name: string (nullable = true)\n",
      " |    |-- Percent: long (nullable = true)\n",
      " |-- sector3: struct (nullable = true)\n",
      " |    |-- Name: string (nullable = true)\n",
      " |    |-- Percent: long (nullable = true)\n",
      " |-- sector4: struct (nullable = true)\n",
      " |    |-- Name: string (nullable = true)\n",
      " |    |-- Percent: long (nullable = true)\n",
      " |-- sector_namecode: array (nullable = true)\n",
      " |    |-- element: struct (containsNull = true)\n",
      " |    |    |-- code: string (nullable = true)\n",
      " |    |    |-- name: string (nullable = true)\n",
      " |-- sectorcode: string (nullable = true)\n",
      " |-- source: string (nullable = true)\n",
      " |-- status: string (nullable = true)\n",
      " |-- supplementprojectflg: string (nullable = true)\n",
      " |-- theme1: struct (nullable = true)\n",
      " |    |-- Name: string (nullable = true)\n",
      " |    |-- Percent: long (nullable = true)\n",
      " |-- theme_namecode: array (nullable = true)\n",
      " |    |-- element: struct (containsNull = true)\n",
      " |    |    |-- code: string (nullable = true)\n",
      " |    |    |-- name: string (nullable = true)\n",
      " |-- themecode: string (nullable = true)\n",
      " |-- totalamt: long (nullable = true)\n",
      " |-- totalcommamt: long (nullable = true)\n",
      " |-- url: string (nullable = true)\n",
      "\n",
      "+--------------------+\n",
      "|                Name|\n",
      "+--------------------+\n",
      "|[Primary educatio...|\n",
      "|[Public administr...|\n",
      "+--------------------+\n",
      "\n"
     ]
    }
   ],
   "source": [
    "example1_df.printSchema()\n",
    "\n",
    "sql = \"select sector.Name from world_bank limit 2\"\n",
    "sqlContext.sql(sql).show()"
   ]
  },
  {
   "cell_type": "markdown",
   "metadata": {},
   "source": [
    "<a id=\"convertrdd\"></a>\n",
    "## 9. Convert RDDs to DataFrames\n",
    "If you want to run SQL queries on an existing RDD, you must convert the RDD to a DataFrame. The main difference between RDDs and DataFrames is whether the columns are named.\n",
    "\n",
    "You'll create an RDD and then convert it to a DataFrame in two different ways:\n",
    " - [Apply a schema](#apply)\n",
    " - [Create rows with named columns](#namedcol)"
   ]
  },
  {
   "cell_type": "markdown",
   "metadata": {},
   "source": [
    "<a id=\"simplerdd\"></a>\n",
    "### 9.1 Create a simple RDD\n",
    "You'll create a simple RDD with an ID column and two columns of random numbers.\n",
    "\n",
    "First create a Python list of lists:"
   ]
  },
  {
   "cell_type": "code",
   "execution_count": 43,
   "metadata": {
    "collapsed": true
   },
   "outputs": [],
   "source": [
    "import random\n",
    "\n",
    "data_e2 = []\n",
    "for x in range(1,6):\n",
    "    random_int = int(random.random() * 10)\n",
    "    data_e2.append([x, random_int, random_int^2])"
   ]
  },
  {
   "cell_type": "markdown",
   "metadata": {},
   "source": [
    "Now create the RDD:"
   ]
  },
  {
   "cell_type": "code",
   "execution_count": 44,
   "metadata": {
    "collapsed": false
   },
   "outputs": [
    {
     "name": "stdout",
     "output_type": "stream",
     "text": [
      "[[1, 5, 7], [2, 3, 1], [3, 0, 2], [4, 8, 10], [5, 5, 7]]\n"
     ]
    }
   ],
   "source": [
    "rdd_example2 = sc.parallelize(data_e2)\n",
    "print rdd_example2.collect()"
   ]
  },
  {
   "cell_type": "markdown",
   "metadata": {},
   "source": [
    "<a id=\"apply\"></a>\n",
    "### 9.2 Apply a schema\n",
    "You'll use the `StructField` method to create a schema object that's based on a string, apply the schema to the RDD to create a DataFrame, and then create a table to run SQL queries on.\n",
    "\n",
    "Define your schema columns as a string:"
   ]
  },
  {
   "cell_type": "code",
   "execution_count": 45,
   "metadata": {
    "collapsed": true
   },
   "outputs": [],
   "source": [
    "from pyspark.sql.types import *\n",
    "\n",
    "schemaString = \"ID VAL1 VAL2\""
   ]
  },
  {
   "cell_type": "markdown",
   "metadata": {},
   "source": [
    "Assign header information with the `StructField` method and create the schema with the `StructType` method:"
   ]
  },
  {
   "cell_type": "code",
   "execution_count": 46,
   "metadata": {
    "collapsed": true
   },
   "outputs": [],
   "source": [
    "fields = [StructField(field_name, StringType(), True) for field_name in schemaString.split()]\n",
    "schema = StructType(fields)"
   ]
  },
  {
   "cell_type": "markdown",
   "metadata": {},
   "source": [
    "Apply the schema to the RDD with the `createDataFrame` method:"
   ]
  },
  {
   "cell_type": "code",
   "execution_count": 47,
   "metadata": {
    "collapsed": true
   },
   "outputs": [],
   "source": [
    "schemaExample = sqlContext.createDataFrame(rdd_example2, schema)"
   ]
  },
  {
   "cell_type": "markdown",
   "metadata": {},
   "source": [
    "Register the DataFrame as a table:"
   ]
  },
  {
   "cell_type": "code",
   "execution_count": 48,
   "metadata": {
    "collapsed": true
   },
   "outputs": [],
   "source": [
    "schemaExample.registerTempTable(\"example2\")"
   ]
  },
  {
   "cell_type": "markdown",
   "metadata": {},
   "source": [
    "View the data:"
   ]
  },
  {
   "cell_type": "code",
   "execution_count": 49,
   "metadata": {
    "collapsed": false
   },
   "outputs": [
    {
     "name": "stdout",
     "output_type": "stream",
     "text": [
      "[Row(ID=u'1', VAL1=u'5', VAL2=u'7'), Row(ID=u'2', VAL1=u'3', VAL2=u'1'), Row(ID=u'3', VAL1=u'0', VAL2=u'2'), Row(ID=u'4', VAL1=u'8', VAL2=u'10'), Row(ID=u'5', VAL1=u'5', VAL2=u'7')]\n"
     ]
    }
   ],
   "source": [
    "print schemaExample.collect()"
   ]
  },
  {
   "cell_type": "markdown",
   "metadata": {},
   "source": [
    "You can reference the columns names in DataFrames:"
   ]
  },
  {
   "cell_type": "code",
   "execution_count": 50,
   "metadata": {
    "collapsed": false
   },
   "outputs": [
    {
     "name": "stdout",
     "output_type": "stream",
     "text": [
      "1 5 7\n",
      "2 3 1\n"
     ]
    }
   ],
   "source": [
    "for row in schemaExample.take(2):\n",
    "    print row.ID, row.VAL1, row.VAL2"
   ]
  },
  {
   "cell_type": "markdown",
   "metadata": {},
   "source": [
    "Run a simple SQL query:"
   ]
  },
  {
   "cell_type": "code",
   "execution_count": 51,
   "metadata": {
    "collapsed": false
   },
   "outputs": [
    {
     "data": {
      "text/html": [
       "<div>\n",
       "<table border=\"1\" class=\"dataframe\">\n",
       "  <thead>\n",
       "    <tr style=\"text-align: right;\">\n",
       "      <th></th>\n",
       "      <th>ID</th>\n",
       "      <th>VAL1</th>\n",
       "      <th>VAL2</th>\n",
       "    </tr>\n",
       "  </thead>\n",
       "  <tbody>\n",
       "    <tr>\n",
       "      <th>0</th>\n",
       "      <td>1</td>\n",
       "      <td>5</td>\n",
       "      <td>7</td>\n",
       "    </tr>\n",
       "    <tr>\n",
       "      <th>1</th>\n",
       "      <td>2</td>\n",
       "      <td>3</td>\n",
       "      <td>1</td>\n",
       "    </tr>\n",
       "    <tr>\n",
       "      <th>2</th>\n",
       "      <td>3</td>\n",
       "      <td>0</td>\n",
       "      <td>2</td>\n",
       "    </tr>\n",
       "    <tr>\n",
       "      <th>3</th>\n",
       "      <td>4</td>\n",
       "      <td>8</td>\n",
       "      <td>10</td>\n",
       "    </tr>\n",
       "    <tr>\n",
       "      <th>4</th>\n",
       "      <td>5</td>\n",
       "      <td>5</td>\n",
       "      <td>7</td>\n",
       "    </tr>\n",
       "  </tbody>\n",
       "</table>\n",
       "</div>"
      ],
      "text/plain": [
       "  ID VAL1 VAL2\n",
       "0  1    5    7\n",
       "1  2    3    1\n",
       "2  3    0    2\n",
       "3  4    8   10\n",
       "4  5    5    7"
      ]
     },
     "execution_count": 51,
     "metadata": {},
     "output_type": "execute_result"
    }
   ],
   "source": [
    "sqlContext.sql(\"select * from example2\").toPandas()"
   ]
  },
  {
   "cell_type": "markdown",
   "metadata": {},
   "source": [
    "<a id=\"namedcol\"></a>\n",
    "### 9.3 Create rows with named columns\n",
    "You'll create an RDD with named columns and then convert it to a DataFrame and a table.\n",
    "\n",
    "Create a new RDD and specify the names of the columns with the `map` method:"
   ]
  },
  {
   "cell_type": "code",
   "execution_count": 52,
   "metadata": {
    "collapsed": false
   },
   "outputs": [
    {
     "name": "stdout",
     "output_type": "stream",
     "text": [
      "[Row(id=1, val1=5, val2=7), Row(id=2, val1=3, val2=1), Row(id=3, val1=0, val2=2), Row(id=4, val1=8, val2=10), Row(id=5, val1=5, val2=7)]\n"
     ]
    }
   ],
   "source": [
    "from pyspark.sql import Row\n",
    "\n",
    "rdd_example3 = rdd_example2.map(lambda x: Row(id=x[0], val1=x[1], val2=x[2]))\n",
    "\n",
    "print rdd_example3.collect() "
   ]
  },
  {
   "cell_type": "markdown",
   "metadata": {},
   "source": [
    "Convert `rdd_example3` to a DataFrame and register an associated table:"
   ]
  },
  {
   "cell_type": "code",
   "execution_count": 53,
   "metadata": {
    "collapsed": true
   },
   "outputs": [],
   "source": [
    "df_example3 = rdd_example3.toDF()\n",
    "df_example3.registerTempTable(\"example3\")"
   ]
  },
  {
   "cell_type": "markdown",
   "metadata": {},
   "source": [
    "Run a simple SQL query:"
   ]
  },
  {
   "cell_type": "code",
   "execution_count": 54,
   "metadata": {
    "collapsed": false
   },
   "outputs": [
    {
     "data": {
      "text/html": [
       "<div>\n",
       "<table border=\"1\" class=\"dataframe\">\n",
       "  <thead>\n",
       "    <tr style=\"text-align: right;\">\n",
       "      <th></th>\n",
       "      <th>id</th>\n",
       "      <th>val1</th>\n",
       "      <th>val2</th>\n",
       "    </tr>\n",
       "  </thead>\n",
       "  <tbody>\n",
       "    <tr>\n",
       "      <th>0</th>\n",
       "      <td>1</td>\n",
       "      <td>5</td>\n",
       "      <td>7</td>\n",
       "    </tr>\n",
       "    <tr>\n",
       "      <th>1</th>\n",
       "      <td>2</td>\n",
       "      <td>3</td>\n",
       "      <td>1</td>\n",
       "    </tr>\n",
       "    <tr>\n",
       "      <th>2</th>\n",
       "      <td>3</td>\n",
       "      <td>0</td>\n",
       "      <td>2</td>\n",
       "    </tr>\n",
       "    <tr>\n",
       "      <th>3</th>\n",
       "      <td>4</td>\n",
       "      <td>8</td>\n",
       "      <td>10</td>\n",
       "    </tr>\n",
       "    <tr>\n",
       "      <th>4</th>\n",
       "      <td>5</td>\n",
       "      <td>5</td>\n",
       "      <td>7</td>\n",
       "    </tr>\n",
       "  </tbody>\n",
       "</table>\n",
       "</div>"
      ],
      "text/plain": [
       "   id  val1  val2\n",
       "0   1     5     7\n",
       "1   2     3     1\n",
       "2   3     0     2\n",
       "3   4     8    10\n",
       "4   5     5     7"
      ]
     },
     "execution_count": 54,
     "metadata": {},
     "output_type": "execute_result"
    }
   ],
   "source": [
    "sqlContext.sql(\"select * from example3\").toPandas()"
   ]
  },
  {
   "cell_type": "markdown",
   "metadata": {},
   "source": [
    "<a id=\"join\"></a>\n",
    "### 9.4 Join tables\n",
    "You can join tables.\n",
    "\n",
    "Join tables `example2` and `example3` on the ID column:"
   ]
  },
  {
   "cell_type": "code",
   "execution_count": 55,
   "metadata": {
    "collapsed": false
   },
   "outputs": [
    {
     "name": "stdout",
     "output_type": "stream",
     "text": [
      "  ID VAL1 VAL2  id  val1  val2\n",
      "0  1    5    7   1     5     7\n",
      "1  4    8   10   4     8    10\n",
      "2  3    0    2   3     0     2\n",
      "3  2    3    1   2     3     1\n",
      "4  5    5    7   5     5     7\n"
     ]
    }
   ],
   "source": [
    "query = \"\"\"\n",
    "select\n",
    "    *\n",
    "from\n",
    "    example2 e2\n",
    "inner join example3 e3 on\n",
    "    e2.ID = e3.id\n",
    "\"\"\"\n",
    "\n",
    "print sqlContext.sql(query).toPandas()"
   ]
  },
  {
   "cell_type": "markdown",
   "metadata": {},
   "source": [
    "Alternatively, you can join DataFrames with a Python command instead of an SQL query:"
   ]
  },
  {
   "cell_type": "code",
   "execution_count": 56,
   "metadata": {
    "collapsed": false
   },
   "outputs": [
    {
     "name": "stdout",
     "output_type": "stream",
     "text": [
      "Row(id=1, val1=5, val2=7, ID=u'1', VAL1=u'5', VAL2=u'7')\n",
      "Row(id=4, val1=8, val2=10, ID=u'4', VAL1=u'8', VAL2=u'10')\n",
      "Row(id=3, val1=0, val2=2, ID=u'3', VAL1=u'0', VAL2=u'2')\n",
      "Row(id=2, val1=3, val2=1, ID=u'2', VAL1=u'3', VAL2=u'1')\n",
      "Row(id=5, val1=5, val2=7, ID=u'5', VAL1=u'5', VAL2=u'7')\n"
     ]
    }
   ],
   "source": [
    "df_example4 = df_example3.join(schemaExample, schemaExample[\"ID\"] == df_example3[\"id\"] )\n",
    "\n",
    "for row in df_example4.take(5):\n",
    "    print row"
   ]
  },
  {
   "cell_type": "markdown",
   "metadata": {},
   "source": [
    "<a id=\"sqlfuncs\"></a>\n",
    "## 10. Create SQL functions \n",
    "You can create functions that run in SQL queries. \n",
    "\n",
    "First, create a Python function and test it:"
   ]
  },
  {
   "cell_type": "code",
   "execution_count": 57,
   "metadata": {
    "collapsed": false
   },
   "outputs": [
    {
     "name": "stdout",
     "output_type": "stream",
     "text": [
      "30\n"
     ]
    }
   ],
   "source": [
    "def simple_function(v):\n",
    "    return int(v * 10)\n",
    "\n",
    "#test the function\n",
    "print simple_function(3)"
   ]
  },
  {
   "cell_type": "markdown",
   "metadata": {},
   "source": [
    "Next, register the function as an SQL function with the `registerFunction` method:"
   ]
  },
  {
   "cell_type": "code",
   "execution_count": 58,
   "metadata": {
    "collapsed": true
   },
   "outputs": [],
   "source": [
    "sqlContext.registerFunction(\"simple_function\", simple_function)"
   ]
  },
  {
   "cell_type": "markdown",
   "metadata": {},
   "source": [
    "Now run the function in an SQL Statement:"
   ]
  },
  {
   "cell_type": "code",
   "execution_count": 59,
   "metadata": {
    "collapsed": false
   },
   "outputs": [
    {
     "data": {
      "text/html": [
       "<div>\n",
       "<table border=\"1\" class=\"dataframe\">\n",
       "  <thead>\n",
       "    <tr style=\"text-align: right;\">\n",
       "      <th></th>\n",
       "      <th>ID</th>\n",
       "      <th>VAL1</th>\n",
       "      <th>VAL2</th>\n",
       "      <th>s_VAL1</th>\n",
       "      <th>s_VAL2</th>\n",
       "    </tr>\n",
       "  </thead>\n",
       "  <tbody>\n",
       "    <tr>\n",
       "      <th>0</th>\n",
       "      <td>1</td>\n",
       "      <td>5</td>\n",
       "      <td>7</td>\n",
       "      <td>5555555555</td>\n",
       "      <td>7777777777</td>\n",
       "    </tr>\n",
       "    <tr>\n",
       "      <th>1</th>\n",
       "      <td>2</td>\n",
       "      <td>3</td>\n",
       "      <td>1</td>\n",
       "      <td>3333333333</td>\n",
       "      <td>1111111111</td>\n",
       "    </tr>\n",
       "    <tr>\n",
       "      <th>2</th>\n",
       "      <td>3</td>\n",
       "      <td>0</td>\n",
       "      <td>2</td>\n",
       "      <td>0</td>\n",
       "      <td>2222222222</td>\n",
       "    </tr>\n",
       "    <tr>\n",
       "      <th>3</th>\n",
       "      <td>4</td>\n",
       "      <td>8</td>\n",
       "      <td>10</td>\n",
       "      <td>8888888888</td>\n",
       "      <td>10101010101010101010</td>\n",
       "    </tr>\n",
       "    <tr>\n",
       "      <th>4</th>\n",
       "      <td>5</td>\n",
       "      <td>5</td>\n",
       "      <td>7</td>\n",
       "      <td>5555555555</td>\n",
       "      <td>7777777777</td>\n",
       "    </tr>\n",
       "  </tbody>\n",
       "</table>\n",
       "</div>"
      ],
      "text/plain": [
       "  ID VAL1 VAL2      s_VAL1                s_VAL2\n",
       "0  1    5    7  5555555555            7777777777\n",
       "1  2    3    1  3333333333            1111111111\n",
       "2  3    0    2           0            2222222222\n",
       "3  4    8   10  8888888888  10101010101010101010\n",
       "4  5    5    7  5555555555            7777777777"
      ]
     },
     "execution_count": 59,
     "metadata": {},
     "output_type": "execute_result"
    }
   ],
   "source": [
    "query = \"\"\"\n",
    "select\n",
    "    ID,\n",
    "    VAL1,\n",
    "    VAL2,\n",
    "    simple_function(VAL1) as s_VAL1,\n",
    "    simple_function(VAL2) as s_VAL2\n",
    "from\n",
    " example2\n",
    "\"\"\"\n",
    "sqlContext.sql(query).toPandas()"
   ]
  },
  {
   "cell_type": "markdown",
   "metadata": {},
   "source": [
    "The values in the VAL1 and VAL2 columns look like strings (10 characters instead of a number multiplied by 10). That's because string is the default data type for columns in Spark DataFrames.\n",
    "\n",
    "Cast the values in the VAL1 and VAL2 columns to integers: "
   ]
  },
  {
   "cell_type": "code",
   "execution_count": 60,
   "metadata": {
    "collapsed": false
   },
   "outputs": [
    {
     "data": {
      "text/html": [
       "<div>\n",
       "<table border=\"1\" class=\"dataframe\">\n",
       "  <thead>\n",
       "    <tr style=\"text-align: right;\">\n",
       "      <th></th>\n",
       "      <th>ID</th>\n",
       "      <th>VAL1</th>\n",
       "      <th>VAL2</th>\n",
       "      <th>s_VAL1</th>\n",
       "      <th>s_VAL2</th>\n",
       "    </tr>\n",
       "  </thead>\n",
       "  <tbody>\n",
       "    <tr>\n",
       "      <th>0</th>\n",
       "      <td>1</td>\n",
       "      <td>5</td>\n",
       "      <td>7</td>\n",
       "      <td>50</td>\n",
       "      <td>70</td>\n",
       "    </tr>\n",
       "    <tr>\n",
       "      <th>1</th>\n",
       "      <td>2</td>\n",
       "      <td>3</td>\n",
       "      <td>1</td>\n",
       "      <td>30</td>\n",
       "      <td>10</td>\n",
       "    </tr>\n",
       "    <tr>\n",
       "      <th>2</th>\n",
       "      <td>3</td>\n",
       "      <td>0</td>\n",
       "      <td>2</td>\n",
       "      <td>0</td>\n",
       "      <td>20</td>\n",
       "    </tr>\n",
       "    <tr>\n",
       "      <th>3</th>\n",
       "      <td>4</td>\n",
       "      <td>8</td>\n",
       "      <td>10</td>\n",
       "      <td>80</td>\n",
       "      <td>100</td>\n",
       "    </tr>\n",
       "    <tr>\n",
       "      <th>4</th>\n",
       "      <td>5</td>\n",
       "      <td>5</td>\n",
       "      <td>7</td>\n",
       "      <td>50</td>\n",
       "      <td>70</td>\n",
       "    </tr>\n",
       "  </tbody>\n",
       "</table>\n",
       "</div>"
      ],
      "text/plain": [
       "  ID VAL1 VAL2 s_VAL1 s_VAL2\n",
       "0  1    5    7     50     70\n",
       "1  2    3    1     30     10\n",
       "2  3    0    2      0     20\n",
       "3  4    8   10     80    100\n",
       "4  5    5    7     50     70"
      ]
     },
     "execution_count": 60,
     "metadata": {},
     "output_type": "execute_result"
    }
   ],
   "source": [
    "query = \"\"\"\n",
    "select\n",
    "    ID,\n",
    "    VAL1,\n",
    "    VAL2,\n",
    "    simple_function(cast(VAL1 as int)) as s_VAL1,\n",
    "    simple_function(cast(VAL2 as int)) as s_VAL2\n",
    "from\n",
    " example2\n",
    "\"\"\"\n",
    "sqlContext.sql(query).toPandas()"
   ]
  },
  {
   "cell_type": "markdown",
   "metadata": {},
   "source": [
    "That looks better!"
   ]
  },
  {
   "cell_type": "markdown",
   "metadata": {},
   "source": [
    "<a id=\"sparkdf\"></a>\n",
    "## 11. Convert a pandas DataFrame to a Spark DataFrame\n",
    "Although pandas DataFrames display data in a friendlier format, Spark DataFrames can be faster and more scalable.\n",
    "\n",
    "You'll get a new data set, create a pandas DataFrame for it, and then convert the pandas DataFrame to a Spark DataFrame."
   ]
  },
  {
   "cell_type": "markdown",
   "metadata": {},
   "source": [
    "<a id=\"ufo\"></a>\n",
    "### 11.1 Get a new data set\n",
    "Get a data set about UFO sightings:"
   ]
  },
  {
   "cell_type": "code",
   "execution_count": 61,
   "metadata": {
    "collapsed": false
   },
   "outputs": [
    {
     "name": "stdout",
     "output_type": "stream",
     "text": [
      "--2017-02-22 20:37:01--  https://www.quandl.com/api/v3/datasets/NUFORC/SIGHTINGS.csv\n",
      "Resolving www.quandl.com (www.quandl.com)... 104.25.54.103, 104.25.53.103, 2400:cb00:2048:1::6819:3567, ...\n",
      "Connecting to www.quandl.com (www.quandl.com)|104.25.54.103|:443... connected.\n",
      "HTTP request sent, awaiting response... 200 OK\n",
      "Length: 14372 (14K) [text/csv]\n",
      "Saving to: ‘SIGHTINGS.csv’\n",
      "\n",
      "100%[======================================>] 14,372      --.-K/s   in 0.001s  \n",
      "\n",
      "2017-02-22 20:37:01 (18.4 MB/s) - ‘SIGHTINGS.csv’ saved [14372/14372]\n",
      "\n"
     ]
    }
   ],
   "source": [
    "!rm SIGHTINGS.csv -f\n",
    "!wget https://www.quandl.com/api/v3/datasets/NUFORC/SIGHTINGS.csv"
   ]
  },
  {
   "cell_type": "markdown",
   "metadata": {},
   "source": [
    "<a id=\"ufopandas\"></a>\n",
    "### 11.2 Create a pandas DataFrame\n",
    "Create a pandas DataFrame of the data set with the `read_csv` method:"
   ]
  },
  {
   "cell_type": "code",
   "execution_count": 62,
   "metadata": {
    "collapsed": false
   },
   "outputs": [
    {
     "data": {
      "text/html": [
       "<div>\n",
       "<table border=\"1\" class=\"dataframe\">\n",
       "  <thead>\n",
       "    <tr style=\"text-align: right;\">\n",
       "      <th></th>\n",
       "      <th>Reports</th>\n",
       "      <th>Count</th>\n",
       "    </tr>\n",
       "  </thead>\n",
       "  <tbody>\n",
       "    <tr>\n",
       "      <th>0</th>\n",
       "      <td>2017-02-28</td>\n",
       "      <td>201</td>\n",
       "    </tr>\n",
       "    <tr>\n",
       "      <th>1</th>\n",
       "      <td>2017-01-31</td>\n",
       "      <td>307</td>\n",
       "    </tr>\n",
       "    <tr>\n",
       "      <th>2</th>\n",
       "      <td>2016-12-31</td>\n",
       "      <td>333</td>\n",
       "    </tr>\n",
       "    <tr>\n",
       "      <th>3</th>\n",
       "      <td>2016-11-30</td>\n",
       "      <td>480</td>\n",
       "    </tr>\n",
       "    <tr>\n",
       "      <th>4</th>\n",
       "      <td>2016-10-31</td>\n",
       "      <td>473</td>\n",
       "    </tr>\n",
       "  </tbody>\n",
       "</table>\n",
       "</div>"
      ],
      "text/plain": [
       "      Reports  Count\n",
       "0  2017-02-28    201\n",
       "1  2017-01-31    307\n",
       "2  2016-12-31    333\n",
       "3  2016-11-30    480\n",
       "4  2016-10-31    473"
      ]
     },
     "execution_count": 62,
     "metadata": {},
     "output_type": "execute_result"
    }
   ],
   "source": [
    "pandas_df = pd.read_csv(\"./SIGHTINGS.csv\")\n",
    "pandas_df.head()"
   ]
  },
  {
   "cell_type": "markdown",
   "metadata": {},
   "source": [
    "<a id=\"sparkufo\"></a>\n",
    "### 11.3 Convert to a Spark DataFrame\n",
    "Convert the pandas DataFrame to a Spark DataFrame with the `createDataFrame` method. Remember using the `createDataFrame` method to convert an RDD to a Spark DataFrame?"
   ]
  },
  {
   "cell_type": "code",
   "execution_count": 63,
   "metadata": {
    "collapsed": true
   },
   "outputs": [],
   "source": [
    "spark_df = sqlContext.createDataFrame(pandas_df)"
   ]
  },
  {
   "cell_type": "markdown",
   "metadata": {},
   "source": [
    "Print the first two rows:"
   ]
  },
  {
   "cell_type": "code",
   "execution_count": 64,
   "metadata": {
    "collapsed": false
   },
   "outputs": [
    {
     "name": "stdout",
     "output_type": "stream",
     "text": [
      "Row(Reports=u'2017-02-28', Count=201.0)\n",
      "Row(Reports=u'2017-01-31', Count=307.0)\n"
     ]
    }
   ],
   "source": [
    "for row in spark_df.take(2):\n",
    "    print row\n"
   ]
  },
  {
   "cell_type": "markdown",
   "metadata": {},
   "source": [
    "Register the Spark DataFrame as a table:"
   ]
  },
  {
   "cell_type": "code",
   "execution_count": 65,
   "metadata": {
    "collapsed": true
   },
   "outputs": [],
   "source": [
    "spark_df.registerTempTable(\"ufo_sightings\")"
   ]
  },
  {
   "cell_type": "markdown",
   "metadata": {},
   "source": [
    "<a id=\"runufo\"></a>\n",
    "### 11.4 Run an SQL statement\n",
    "Now run an SQL statement to print the first 10 rows of the table:"
   ]
  },
  {
   "cell_type": "code",
   "execution_count": 66,
   "metadata": {
    "collapsed": false
   },
   "outputs": [
    {
     "name": "stdout",
     "output_type": "stream",
     "text": [
      "[Row(Reports=u'2017-02-28', Count=201.0), Row(Reports=u'2017-01-31', Count=307.0), Row(Reports=u'2016-12-31', Count=333.0), Row(Reports=u'2016-11-30', Count=480.0), Row(Reports=u'2016-10-31', Count=473.0), Row(Reports=u'2016-09-30', Count=583.0), Row(Reports=u'2016-08-31', Count=542.0), Row(Reports=u'2016-07-31', Count=673.0), Row(Reports=u'2016-06-30', Count=419.0), Row(Reports=u'2016-05-31', Count=377.0)]\n"
     ]
    }
   ],
   "source": [
    "print sqlContext.sql(\"select * from ufo_sightings limit 10\").collect()"
   ]
  },
  {
   "cell_type": "markdown",
   "metadata": {},
   "source": [
    "<a id=\"viz\"></a>\n",
    "## 12. Visualize data\n",
    "It's easy to create charts from pandas DataFrames. You'll use the matplotlib library to create graphs and the NumPy package for computing.\n",
    "\n",
    "Import the libraries and specify to show graphs inline:"
   ]
  },
  {
   "cell_type": "code",
   "execution_count": 67,
   "metadata": {
    "collapsed": true
   },
   "outputs": [],
   "source": [
    "%matplotlib inline \n",
    "import matplotlib.pyplot as plt, numpy as np"
   ]
  },
  {
   "cell_type": "markdown",
   "metadata": {},
   "source": [
    "Convert the Spark DataFrame with UFO data to a pandas DataFrame: "
   ]
  },
  {
   "cell_type": "code",
   "execution_count": 68,
   "metadata": {
    "collapsed": true
   },
   "outputs": [],
   "source": [
    "ufos_df = spark_df.toPandas()"
   ]
  },
  {
   "cell_type": "markdown",
   "metadata": {},
   "source": [
    "<a id=\"vizchart\"></a>\n",
    "### 12.1 Create a chart\n",
    "\n",
    "To create a chart, you call the `plot()` method and specify the type of chart, the columns for the X and Y axes, and, optionally, the size of the chart. \n",
    "\n",
    "For more information about plotting pandas DataFrames, see [Visualization](http://pandas.pydata.org/pandas-docs/stable/visualization.html).\n",
    "\n",
    "Create a bar chart 12\" wide by 5\" high that shows the number of reports by date:"
   ]
  },
  {
   "cell_type": "code",
   "execution_count": 69,
   "metadata": {
    "collapsed": false
   },
   "outputs": [
    {
     "data": {
      "text/plain": [
       "<matplotlib.axes._subplots.AxesSubplot at 0x7ffa972bd790>"
      ]
     },
     "execution_count": 69,
     "metadata": {},
     "output_type": "execute_result"
    },
    {
     "data": {
      "image/png": "[encoded data removed]",
      "text/plain": [
       "<matplotlib.figure.Figure at 0x7ffa972adf90>"
      ]
     },
     "metadata": {},
     "output_type": "display_data"
    }
   ],
   "source": [
    "ufos_df.plot(kind='bar', x='Reports', y='Count', figsize=(12, 5))"
   ]
  },
  {
   "cell_type": "markdown",
   "metadata": {},
   "source": [
    "This chart doesn't look good because there are too many observations. Check how many observations there are by querying the `ufo_sightings` table:"
   ]
  },
  {
   "cell_type": "code",
   "execution_count": 70,
   "metadata": {
    "collapsed": false
   },
   "outputs": [
    {
     "name": "stdout",
     "output_type": "stream",
     "text": [
      "[Row(count(1)=903)]\n"
     ]
    }
   ],
   "source": [
    "print sqlContext.sql(\"select count(*) from ufo_sightings\").collect()"
   ]
  },
  {
   "cell_type": "markdown",
   "metadata": {},
   "source": [
    "<a id=\"vizagg\"></a>\n",
    "### 12.2 Aggregate the data\n",
    "\n",
    "To reduce the number of data points on the chart, you can aggregate the data by year. Here are a few of the ways that you can do that:\n",
    "\n",
    " - Run an SQL query on the Reports column to output the year, and then run a group by operation on the year.\n",
    " - Create a simple Python function to aggregate by year, and then run the function in an SQL query.\n",
    " - Run the `map()` method on the Spark Dataframe to append a new column that contains the aggregated count by year. This is the method you'll use.\n",
    "\n",
    "Remember that the dates in the Reports column look like this: 2016-01-31. Therefore, to create the year column, you just need the first 4 characters from the Reports column.\n",
    "\n",
    "Add a year column to the DataFrame:"
   ]
  },
  {
   "cell_type": "code",
   "execution_count": 71,
   "metadata": {
    "collapsed": true
   },
   "outputs": [],
   "source": [
    "ufos_df = spark_df.rdd.map(lambda x: Row(**dict(x.asDict(), year=int(x.Reports[0:4])))).toDF()"
   ]
  },
  {
   "cell_type": "markdown",
   "metadata": {},
   "source": [
    "Check to verify that you get the expected results:"
   ]
  },
  {
   "cell_type": "code",
   "execution_count": 72,
   "metadata": {
    "collapsed": false
   },
   "outputs": [
    {
     "name": "stdout",
     "output_type": "stream",
     "text": [
      "[Row(Count=201.0, Reports=u'2017-02-28', year=2017), Row(Count=307.0, Reports=u'2017-01-31', year=2017), Row(Count=333.0, Reports=u'2016-12-31', year=2016), Row(Count=480.0, Reports=u'2016-11-30', year=2016), Row(Count=473.0, Reports=u'2016-10-31', year=2016)]\n"
     ]
    }
   ],
   "source": [
    "print ufos_df.take(5)"
   ]
  },
  {
   "cell_type": "markdown",
   "metadata": {},
   "source": [
    "Register the DataFrame as a table:"
   ]
  },
  {
   "cell_type": "code",
   "execution_count": 73,
   "metadata": {
    "collapsed": true
   },
   "outputs": [],
   "source": [
    "ufos_df.registerTempTable(\"ufo_withyear\")"
   ]
  },
  {
   "cell_type": "markdown",
   "metadata": {},
   "source": [
    "<a id=\"vizchart2\"></a>\n",
    "### 12.3 Create a better chart\n",
    "\n",
    "Now run an SQL query to group by year, order by year, and filter to the last 66 years. Then create a pandas DataFrame for the results and create a chart of the number of reports by year."
   ]
  },
  {
   "cell_type": "code",
   "execution_count": 74,
   "metadata": {
    "collapsed": false
   },
   "outputs": [
    {
     "data": {
      "text/plain": [
       "<matplotlib.axes._subplots.AxesSubplot at 0x7ffa92856190>"
      ]
     },
     "execution_count": 74,
     "metadata": {},
     "output_type": "execute_result"
    },
    {
     "data": {
      "image/png": "[encoded data removed]",
      "text/plain": [
       "<matplotlib.figure.Figure at 0x7ffa97214250>"
      ]
     },
     "metadata": {},
     "output_type": "display_data"
    }
   ],
   "source": [
    "query = \"\"\"\n",
    "select \n",
    "    sum(Count) as count, \n",
    "    year \n",
    "from ufo_withyear\n",
    "where year > 1950\n",
    "group by year\n",
    "order by year\n",
    "\"\"\"\n",
    "pandas_ufos_withyears = sqlContext.sql(query).toPandas()\n",
    "pandas_ufos_withyears.plot(kind='bar', x='year', y='count', figsize=(12, 5))"
   ]
  },
  {
   "cell_type": "markdown",
   "metadata": {},
   "source": [
    "Now you have a chart that you can read. Look back at the original chart and notice that it wasn't ordered ascending by year."
   ]
  },
  {
   "cell_type": "markdown",
   "metadata": {},
   "source": [
    "<a id=\"nextsteps\"></a>\n",
    "## 13. Summary and next steps\n",
    "You've learned how to work with data in RDDs, create DataFrames, convert between DataFrame types, and convert from RDDs. You know how to run SQL queries and create SQL functions. And you can visualize the data in charts. \n",
    "\n",
    "Dig deeper:\n",
    " - [Apache Spark documentation](http://spark.apache.org/documentation.html)\n",
    " - [PySpark documentation](http://spark.apache.org/docs/latest/api/python/pyspark.html)\n",
    " - [pandas](http://pandas.pydata.org/pandas-docs/stable/index.html)\n",
    " - [matplotlib](http://matplotlib.org/)\n",
    " - [NumPy](http://www.numpy.org/)"
   ]
  },
  {
   "cell_type": "markdown",
   "metadata": {},
   "source": [
    "### Author\n",
    "Carlo Appugliese is a Spark and Hadoop evangelist at IBM."
   ]
  },
  {
   "cell_type": "code",
   "execution_count": null,
   "metadata": {
    "collapsed": true
   },
   "outputs": [],
   "source": []
  }
 ],
 "metadata": {
  "kernelspec": {
   "display_name": "Python 2 with Spark 2.0",
   "language": "python",
   "name": "python2-spark20"
  },
  "language_info": {
   "codemirror_mode": {
    "name": "ipython",
    "version": 2
   },
   "file_extension": ".py",
   "mimetype": "text/x-python",
   "name": "python",
   "nbconvert_exporter": "python",
   "pygments_lexer": "ipython2",
   "version": "2.7.11"
  }
 },
 "nbformat": 4,
 "nbformat_minor": 0
}